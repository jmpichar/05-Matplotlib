{
 "cells": [
  {
   "cell_type": "markdown",
   "metadata": {},
   "source": [
    "# Pyber Ride Sharing\n",
    "### Analysis\n",
    "* The data shows that the majority of rides and and fares come from urban areas x % and x % respectively\n",
    "* There are fewer rural rides but the fares are higher \n",
    "* It may be advantages to increase the number of surban and rural drivers as these markets bring in more revenue per ride. In particular the suburban market will continue to grow as people move to the suburbs in search of cheaper housing."
   ]
  },
  {
   "cell_type": "code",
   "execution_count": 1,
   "metadata": {},
   "outputs": [],
   "source": [
    "import pandas as pd\n",
    "import numpy as np\n",
    "import matplotlib.pyplot as plt\n",
    "%matplotlib inline\n"
   ]
  },
  {
   "cell_type": "code",
   "execution_count": null,
   "metadata": {},
   "outputs": [],
   "source": []
  },
  {
   "cell_type": "code",
   "execution_count": 2,
   "metadata": {},
   "outputs": [],
   "source": [
    "city_ride_data = pd.read_csv('data/test_data.csv')"
   ]
  },
  {
   "cell_type": "code",
   "execution_count": 3,
   "metadata": {},
   "outputs": [
    {
     "data": {
      "text/html": [
       "<div>\n",
       "<style scoped>\n",
       "    .dataframe tbody tr th:only-of-type {\n",
       "        vertical-align: middle;\n",
       "    }\n",
       "\n",
       "    .dataframe tbody tr th {\n",
       "        vertical-align: top;\n",
       "    }\n",
       "\n",
       "    .dataframe thead th {\n",
       "        text-align: right;\n",
       "    }\n",
       "</style>\n",
       "<table border=\"1\" class=\"dataframe\">\n",
       "  <thead>\n",
       "    <tr style=\"text-align: right;\">\n",
       "      <th></th>\n",
       "      <th>Unnamed: 0</th>\n",
       "      <th>city</th>\n",
       "      <th>date</th>\n",
       "      <th>fare</th>\n",
       "      <th>ride_id</th>\n",
       "      <th>driver_count</th>\n",
       "      <th>type</th>\n",
       "    </tr>\n",
       "  </thead>\n",
       "  <tbody>\n",
       "    <tr>\n",
       "      <th>0</th>\n",
       "      <td>0</td>\n",
       "      <td>Lake Jonathanshire</td>\n",
       "      <td>2018-01-14 10:14:22</td>\n",
       "      <td>13.83</td>\n",
       "      <td>5739410935873</td>\n",
       "      <td>5</td>\n",
       "      <td>Urban</td>\n",
       "    </tr>\n",
       "    <tr>\n",
       "      <th>1</th>\n",
       "      <td>1</td>\n",
       "      <td>Lake Jonathanshire</td>\n",
       "      <td>2018-04-07 20:51:11</td>\n",
       "      <td>31.25</td>\n",
       "      <td>4441251834598</td>\n",
       "      <td>5</td>\n",
       "      <td>Urban</td>\n",
       "    </tr>\n",
       "    <tr>\n",
       "      <th>2</th>\n",
       "      <td>2</td>\n",
       "      <td>Lake Jonathanshire</td>\n",
       "      <td>2018-03-09 23:45:55</td>\n",
       "      <td>19.89</td>\n",
       "      <td>2389495660448</td>\n",
       "      <td>5</td>\n",
       "      <td>Urban</td>\n",
       "    </tr>\n",
       "    <tr>\n",
       "      <th>3</th>\n",
       "      <td>3</td>\n",
       "      <td>Port Samanthamouth</td>\n",
       "      <td>2018-02-24 4:29:00</td>\n",
       "      <td>33.44</td>\n",
       "      <td>2005065760003</td>\n",
       "      <td>57</td>\n",
       "      <td>Urban</td>\n",
       "    </tr>\n",
       "    <tr>\n",
       "      <th>4</th>\n",
       "      <td>4</td>\n",
       "      <td>Barronchester</td>\n",
       "      <td>2018-01-27 3:08:01</td>\n",
       "      <td>27.79</td>\n",
       "      <td>6653622887913</td>\n",
       "      <td>11</td>\n",
       "      <td>Suburban</td>\n",
       "    </tr>\n",
       "  </tbody>\n",
       "</table>\n",
       "</div>"
      ],
      "text/plain": [
       "   Unnamed: 0                city                 date   fare        ride_id  \\\n",
       "0           0  Lake Jonathanshire  2018-01-14 10:14:22  13.83  5739410935873   \n",
       "1           1  Lake Jonathanshire  2018-04-07 20:51:11  31.25  4441251834598   \n",
       "2           2  Lake Jonathanshire  2018-03-09 23:45:55  19.89  2389495660448   \n",
       "3           3  Port Samanthamouth   2018-02-24 4:29:00  33.44  2005065760003   \n",
       "4           4       Barronchester   2018-01-27 3:08:01  27.79  6653622887913   \n",
       "\n",
       "   driver_count      type  \n",
       "0             5     Urban  \n",
       "1             5     Urban  \n",
       "2             5     Urban  \n",
       "3            57     Urban  \n",
       "4            11  Suburban  "
      ]
     },
     "execution_count": 3,
     "metadata": {},
     "output_type": "execute_result"
    }
   ],
   "source": [
    "city_ride_data.head()"
   ]
  },
  {
   "cell_type": "markdown",
   "metadata": {},
   "source": [
    "# Bubble Plot of Ride Sharing Data"
   ]
  },
  {
   "cell_type": "code",
   "execution_count": 6,
   "metadata": {},
   "outputs": [
    {
     "data": {
      "image/png": "[encoded data removed]",
      "text/plain": [
       "<Figure size 432x288 with 1 Axes>"
      ]
     },
     "metadata": {
      "needs_background": "light"
     },
     "output_type": "display_data"
    }
   ],
   "source": [
    "# Obtain the x and y coordinates for each of the three city types\n",
    "city_types = city_ride_data.groupby('type')\n",
    "\n",
    "urban_cities = city_types.get_group('Urban')\n",
    "rural_cities = city_types.get_group('Rural')\n",
    "suburban_cities = city_types.get_group('Suburban')\n",
    "\n",
    "urban_avg_fare = urban_cities.groupby('city').mean()['fare']\n",
    "urban_drivers = urban_cities.groupby('city').mean()['driver_count']\n",
    "urban_rides = urban_cities.groupby('city').count()['ride_id']\n",
    "\n",
    "suburban_avg_fare = suburban_cities.groupby('city').mean()['fare']\n",
    "suburban_drivers = suburban_cities.groupby('city').mean()['driver_count']\n",
    "suburban_rides = suburban_cities.groupby('city').count()['ride_id']\n",
    "\n",
    "rural_avg_fare = rural_cities.groupby('city').mean()['fare']\n",
    "rural_drivers = rural_cities.groupby('city').mean()['driver_count']\n",
    "rural_rides = rural_cities.groupby('city').count()['ride_id']\n",
    "\n",
    "#Build the scatter plots for each city types\n",
    "linewidths=1\n",
    "alpha=0.5\n",
    "edgecolors='black'\n",
    "\n",
    "plt.scatter(\n",
    "    x=urban_rides, \n",
    "    y=urban_avg_fare, \n",
    "    s=8*urban_drivers, c='lightcoral', label='Urban'\n",
    ")\n",
    "\n",
    "plt.scatter(\n",
    "    x=suburban_rides, \n",
    "    y=suburban_avg_fare, \n",
    "    s=8*suburban_drivers, c='lightskyblue', label='Suburban'\n",
    ")\n",
    "\n",
    "plt.scatter(\n",
    "    x=rural_rides, \n",
    "    y=rural_avg_fare, \n",
    "    s=8*rural_drivers, c='gold', label = 'Rural'\n",
    ")\n",
    "\n",
    "# Incorporate the other graph properties\n",
    "plt.title(\"Pyber Ride Sharing Data\")\n",
    "plt.ylabel(\"Average Fare ($)\")\n",
    "plt.xlabel(\"Total Number of Rides (Per City)\")\n",
    "plt.grid(True)\n",
    "\n",
    "# Create a legend\n",
    "legend = plt.legend(fontsize=\"small\", mode=\"Expanded\", \n",
    "                  numpoints=1, scatterpoints=1, \n",
    "                  loc=\"best\", title=\"City Types\", \n",
    "                  labelspacing=0.5)\n",
    "\n",
    "legend.legendHandles[0]._sizes = [30]\n",
    "legend.legendHandles[1]._sizes = [30]\n",
    "legend.legendHandles[2]._sizes = [30]\n",
    "\n",
    "# Incorporate a text label regarding circle size\n",
    "plt.text(4,40 , 'Note:\\nCircle size correlates with driver count per city.')\n",
    "\n",
    "# Save Figure\n",
    "plt.savefig('Images/fig1.png')\n",
    "\n",
    "plt.show()"
   ]
  },
  {
   "cell_type": "markdown",
   "metadata": {},
   "source": [
    "# Total Fares by City Type"
   ]
  },
  {
   "cell_type": "code",
   "execution_count": 19,
   "metadata": {
    "scrolled": true
   },
   "outputs": [
    {
     "data": {
      "image/png": "[encoded data removed]",
      "text/plain": [
       "<Figure size 432x288 with 1 Axes>"
      ]
     },
     "metadata": {},
     "output_type": "display_data"
    }
   ],
   "source": [
    "# Calculate Type Percents\n",
    "total_fares = city_ride_data['fare'].sum()\n",
    "urban_percent_fares = urban_cities['fare'].sum() / total_fares * 100\n",
    "suburban_percent_fares = suburban_cities['fare'].sum() / total_fares * 100\n",
    "rural_percent_fares = rural_cities['fare'].sum() / total_fares * 100\n",
    "\n",
    "sizes = [urban_percent_fares,suburban_percent_fares,rural_percent_fares ]\n",
    "labels = ['Urban', 'Suburban', 'Rural']\n",
    "colors = ['lightcoral', 'lightskyblue', 'gold']\n",
    "explode = [0, 0, 0.1]\n",
    "\n",
    "# Build Pie Chart\n",
    "plt.pie(sizes, \n",
    "        labels=labels,\n",
    "        autopct='%1.1f%%',\n",
    "        explode=explode, \n",
    "        shadow=True, \n",
    "        colors= colors,startangle=-80)\n",
    "\n",
    "# Save Figure\n",
    "plt.savefig('Images/fig2.png')\n",
    "\n",
    "# Show Figure\n",
    "plt.show()"
   ]
  },
  {
   "cell_type": "markdown",
   "metadata": {},
   "source": [
    "# Total Rides by City Type"
   ]
  },
  {
   "cell_type": "code",
   "execution_count": 20,
   "metadata": {},
   "outputs": [
    {
     "data": {
      "image/png": "[encoded data removed]",
      "text/plain": [
       "<Figure size 432x288 with 1 Axes>"
      ]
     },
     "metadata": {},
     "output_type": "display_data"
    }
   ],
   "source": [
    "# Calculate Type Percents\n",
    "total_rides = city_ride_data['ride_id'].count()\n",
    "urban_percent_rides = urban_cities['ride_id'].count() / total_rides * 100\n",
    "suburban_percent_rides = suburban_cities['ride_id'].count() / total_rides * 100\n",
    "rural_percent_rides = rural_cities['ride_id'].count() / total_rides * 100\n",
    "\n",
    "sizes = [urban_percent_rides, suburban_percent_rides,rural_percent_rides]\n",
    "labels = ['Urban', 'Suburban', 'Rural']\n",
    "colors = ['lightcoral', 'lightskyblue', 'gold']\n",
    "explode = [0, 0, 0.1]\n",
    "\n",
    "# Build Pie Chart\n",
    "plt.pie(sizes, \n",
    "        labels=labels,\n",
    "        autopct='%1.1f%%',\n",
    "        explode=explode, \n",
    "        shadow=True, \n",
    "        colors= colors,startangle=-80)\n",
    "\n",
    "# Save Figure\n",
    "plt.savefig('Images/fig3.png')\n",
    "\n",
    "# Show Figure\n",
    "plt.show()"
   ]
  },
  {
   "cell_type": "markdown",
   "metadata": {},
   "source": [
    "# Total Drivers by City Type"
   ]
  },
  {
   "cell_type": "code",
   "execution_count": 30,
   "metadata": {},
   "outputs": [
    {
     "data": {
      "image/png": "[encoded data removed]",
      "text/plain": [
       "<Figure size 432x288 with 1 Axes>"
      ]
     },
     "metadata": {},
     "output_type": "display_data"
    }
   ],
   "source": [
    "# Calculate Type Percents\n",
    "total_drivers = city_ride_data['driver_count'].sum()\n",
    "urban_percent_drivers = urban_cities['driver_count'].sum() / total_drivers * 100\n",
    "suburban_percent_drivers = suburban_cities['driver_count'].sum() / total_drivers * 100\n",
    "rural_percent_drivers = rural_cities['driver_count'].sum() / total_drivers * 100\n",
    "\n",
    "sizes = [urban_percent_drivers, suburban_percent_drivers, rural_percent_drivers]\n",
    "labels = ['Urban', 'Suburban', 'Rural']\n",
    "colors = ['lightcoral', 'lightskyblue', 'gold']\n",
    "explode = [0, 0, 0.1]\n",
    "\n",
    "# Build Pie Chart\n",
    "plt.pie(sizes,\n",
    "        labels=labels,\n",
    "        autopct='%1.1f%%',\n",
    "        explode=explode,\n",
    "        shadow=True,\n",
    "        colors= colors,startangle=-80)\n",
    "\n",
    "# Save Figure\n",
    "plt.savefig('Images/fig4.png')\n",
    "\n",
    "# Show Figure\n",
    "plt.show()\n"
   ]
  },
  {
   "cell_type": "code",
   "execution_count": null,
   "metadata": {},
   "outputs": [],
   "source": []
  }
 ],
 "metadata": {
  "kernelspec": {
   "display_name": "Python 3",
   "language": "python",
   "name": "python3"
  },
  "language_info": {
   "codemirror_mode": {
    "name": "ipython",
    "version": 3
   },
   "file_extension": ".py",
   "mimetype": "text/x-python",
   "name": "python",
   "nbconvert_exporter": "python",
   "pygments_lexer": "ipython3",
   "version": "3.6.5"
  }
 },
 "nbformat": 4,
 "nbformat_minor": 2
}
