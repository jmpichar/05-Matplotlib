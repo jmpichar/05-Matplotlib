{
 "cells": [
  {
   "cell_type": "code",
   "execution_count": 2,
   "metadata": {},
   "outputs": [],
   "source": [
    "import pandas as pd\n",
    "import matplotlib.pyplot as plt\n",
    "%matplotlib notebook\n"
   ]
  },
  {
   "cell_type": "code",
   "execution_count": 3,
   "metadata": {},
   "outputs": [
    {
     "name": "stdout",
     "output_type": "stream",
     "text": [
      "xlrd installed\n"
     ]
    }
   ],
   "source": [
    "#!pip install xlrd\n",
    "print('xlrd installed')"
   ]
  },
  {
   "cell_type": "code",
   "execution_count": null,
   "metadata": {},
   "outputs": [],
   "source": []
  },
  {
   "cell_type": "code",
   "execution_count": 4,
   "metadata": {},
   "outputs": [],
   "source": [
    "x = [1,2,3]\n",
    "y = [1,4,9]\n",
    "z = [10,5,0]"
   ]
  },
  {
   "cell_type": "code",
   "execution_count": 5,
   "metadata": {
    "scrolled": true
   },
   "outputs": [],
   "source": [
    "#plt.plot(x,y)\n",
    "#plt.title('Example Plot')\n",
    "#plt.xlabel('X')\n",
    "#plt.plot(x,z)\n",
    "#plt.ylabel('Y an Z')\n",
    "#plt.legend(['This is Y', 'This is Z'])\n",
    "#plt.show()"
   ]
  },
  {
   "cell_type": "code",
   "execution_count": 6,
   "metadata": {},
   "outputs": [],
   "source": [
    "\n",
    "ride_data = pd.read_csv('./data/ride_data.csv')\n",
    "city_data = pd.read_csv('./data/city_data.csv')"
   ]
  },
  {
   "cell_type": "code",
   "execution_count": 7,
   "metadata": {},
   "outputs": [
    {
     "data": {
      "text/html": [
       "<div>\n",
       "<style scoped>\n",
       "    .dataframe tbody tr th:only-of-type {\n",
       "        vertical-align: middle;\n",
       "    }\n",
       "\n",
       "    .dataframe tbody tr th {\n",
       "        vertical-align: top;\n",
       "    }\n",
       "\n",
       "    .dataframe thead th {\n",
       "        text-align: right;\n",
       "    }\n",
       "</style>\n",
       "<table border=\"1\" class=\"dataframe\">\n",
       "  <thead>\n",
       "    <tr style=\"text-align: right;\">\n",
       "      <th></th>\n",
       "      <th>city</th>\n",
       "      <th>date</th>\n",
       "      <th>fare</th>\n",
       "      <th>ride_id</th>\n",
       "    </tr>\n",
       "  </thead>\n",
       "  <tbody>\n",
       "    <tr>\n",
       "      <th>0</th>\n",
       "      <td>Lake Jonathanshire</td>\n",
       "      <td>2018-01-14 10:14:22</td>\n",
       "      <td>13.83</td>\n",
       "      <td>5739410935873</td>\n",
       "    </tr>\n",
       "    <tr>\n",
       "      <th>1</th>\n",
       "      <td>South Michelleport</td>\n",
       "      <td>2018-03-04 18:24:09</td>\n",
       "      <td>30.24</td>\n",
       "      <td>2343912425577</td>\n",
       "    </tr>\n",
       "    <tr>\n",
       "      <th>2</th>\n",
       "      <td>Port Samanthamouth</td>\n",
       "      <td>2018-02-24 04:29:00</td>\n",
       "      <td>33.44</td>\n",
       "      <td>2005065760003</td>\n",
       "    </tr>\n",
       "    <tr>\n",
       "      <th>3</th>\n",
       "      <td>Rodneyfort</td>\n",
       "      <td>2018-02-10 23:22:03</td>\n",
       "      <td>23.44</td>\n",
       "      <td>5149245426178</td>\n",
       "    </tr>\n",
       "    <tr>\n",
       "      <th>4</th>\n",
       "      <td>South Jack</td>\n",
       "      <td>2018-03-06 04:28:35</td>\n",
       "      <td>34.58</td>\n",
       "      <td>3908451377344</td>\n",
       "    </tr>\n",
       "  </tbody>\n",
       "</table>\n",
       "</div>"
      ],
      "text/plain": [
       "                 city                 date   fare        ride_id\n",
       "0  Lake Jonathanshire  2018-01-14 10:14:22  13.83  5739410935873\n",
       "1  South Michelleport  2018-03-04 18:24:09  30.24  2343912425577\n",
       "2  Port Samanthamouth  2018-02-24 04:29:00  33.44  2005065760003\n",
       "3          Rodneyfort  2018-02-10 23:22:03  23.44  5149245426178\n",
       "4          South Jack  2018-03-06 04:28:35  34.58  3908451377344"
      ]
     },
     "execution_count": 7,
     "metadata": {},
     "output_type": "execute_result"
    }
   ],
   "source": [
    "ride_data.head()"
   ]
  },
  {
   "cell_type": "code",
   "execution_count": 8,
   "metadata": {},
   "outputs": [
    {
     "data": {
      "text/html": [
       "<div>\n",
       "<style scoped>\n",
       "    .dataframe tbody tr th:only-of-type {\n",
       "        vertical-align: middle;\n",
       "    }\n",
       "\n",
       "    .dataframe tbody tr th {\n",
       "        vertical-align: top;\n",
       "    }\n",
       "\n",
       "    .dataframe thead th {\n",
       "        text-align: right;\n",
       "    }\n",
       "</style>\n",
       "<table border=\"1\" class=\"dataframe\">\n",
       "  <thead>\n",
       "    <tr style=\"text-align: right;\">\n",
       "      <th></th>\n",
       "      <th>city</th>\n",
       "      <th>driver_count</th>\n",
       "      <th>type</th>\n",
       "    </tr>\n",
       "  </thead>\n",
       "  <tbody>\n",
       "    <tr>\n",
       "      <th>0</th>\n",
       "      <td>Richardfort</td>\n",
       "      <td>38</td>\n",
       "      <td>Urban</td>\n",
       "    </tr>\n",
       "    <tr>\n",
       "      <th>1</th>\n",
       "      <td>Williamsstad</td>\n",
       "      <td>59</td>\n",
       "      <td>Urban</td>\n",
       "    </tr>\n",
       "    <tr>\n",
       "      <th>2</th>\n",
       "      <td>Port Angela</td>\n",
       "      <td>67</td>\n",
       "      <td>Urban</td>\n",
       "    </tr>\n",
       "    <tr>\n",
       "      <th>3</th>\n",
       "      <td>Rodneyfort</td>\n",
       "      <td>34</td>\n",
       "      <td>Urban</td>\n",
       "    </tr>\n",
       "    <tr>\n",
       "      <th>4</th>\n",
       "      <td>West Robert</td>\n",
       "      <td>39</td>\n",
       "      <td>Urban</td>\n",
       "    </tr>\n",
       "  </tbody>\n",
       "</table>\n",
       "</div>"
      ],
      "text/plain": [
       "           city  driver_count   type\n",
       "0   Richardfort            38  Urban\n",
       "1  Williamsstad            59  Urban\n",
       "2   Port Angela            67  Urban\n",
       "3    Rodneyfort            34  Urban\n",
       "4   West Robert            39  Urban"
      ]
     },
     "execution_count": 8,
     "metadata": {},
     "output_type": "execute_result"
    }
   ],
   "source": [
    "city_data.head()"
   ]
  },
  {
   "cell_type": "code",
   "execution_count": null,
   "metadata": {},
   "outputs": [],
   "source": []
  },
  {
   "cell_type": "code",
   "execution_count": 9,
   "metadata": {},
   "outputs": [
    {
     "data": {
      "text/html": [
       "<div>\n",
       "<style scoped>\n",
       "    .dataframe tbody tr th:only-of-type {\n",
       "        vertical-align: middle;\n",
       "    }\n",
       "\n",
       "    .dataframe tbody tr th {\n",
       "        vertical-align: top;\n",
       "    }\n",
       "\n",
       "    .dataframe thead th {\n",
       "        text-align: right;\n",
       "    }\n",
       "</style>\n",
       "<table border=\"1\" class=\"dataframe\">\n",
       "  <thead>\n",
       "    <tr style=\"text-align: right;\">\n",
       "      <th></th>\n",
       "      <th>city</th>\n",
       "      <th>date</th>\n",
       "      <th>fare</th>\n",
       "      <th>ride_id</th>\n",
       "      <th>driver_count</th>\n",
       "      <th>type</th>\n",
       "    </tr>\n",
       "  </thead>\n",
       "  <tbody>\n",
       "    <tr>\n",
       "      <th>0</th>\n",
       "      <td>Lake Jonathanshire</td>\n",
       "      <td>2018-01-14 10:14:22</td>\n",
       "      <td>13.83</td>\n",
       "      <td>5739410935873</td>\n",
       "      <td>5</td>\n",
       "      <td>Urban</td>\n",
       "    </tr>\n",
       "    <tr>\n",
       "      <th>1</th>\n",
       "      <td>Lake Jonathanshire</td>\n",
       "      <td>2018-04-07 20:51:11</td>\n",
       "      <td>31.25</td>\n",
       "      <td>4441251834598</td>\n",
       "      <td>5</td>\n",
       "      <td>Urban</td>\n",
       "    </tr>\n",
       "    <tr>\n",
       "      <th>2</th>\n",
       "      <td>Lake Jonathanshire</td>\n",
       "      <td>2018-03-09 23:45:55</td>\n",
       "      <td>19.89</td>\n",
       "      <td>2389495660448</td>\n",
       "      <td>5</td>\n",
       "      <td>Urban</td>\n",
       "    </tr>\n",
       "    <tr>\n",
       "      <th>3</th>\n",
       "      <td>Lake Jonathanshire</td>\n",
       "      <td>2018-04-07 18:09:21</td>\n",
       "      <td>24.28</td>\n",
       "      <td>7796805191168</td>\n",
       "      <td>5</td>\n",
       "      <td>Urban</td>\n",
       "    </tr>\n",
       "    <tr>\n",
       "      <th>4</th>\n",
       "      <td>Lake Jonathanshire</td>\n",
       "      <td>2018-01-02 14:14:50</td>\n",
       "      <td>13.89</td>\n",
       "      <td>424254840012</td>\n",
       "      <td>5</td>\n",
       "      <td>Urban</td>\n",
       "    </tr>\n",
       "  </tbody>\n",
       "</table>\n",
       "</div>"
      ],
      "text/plain": [
       "                 city                 date   fare        ride_id  \\\n",
       "0  Lake Jonathanshire  2018-01-14 10:14:22  13.83  5739410935873   \n",
       "1  Lake Jonathanshire  2018-04-07 20:51:11  31.25  4441251834598   \n",
       "2  Lake Jonathanshire  2018-03-09 23:45:55  19.89  2389495660448   \n",
       "3  Lake Jonathanshire  2018-04-07 18:09:21  24.28  7796805191168   \n",
       "4  Lake Jonathanshire  2018-01-02 14:14:50  13.89   424254840012   \n",
       "\n",
       "   driver_count   type  \n",
       "0             5  Urban  \n",
       "1             5  Urban  \n",
       "2             5  Urban  \n",
       "3             5  Urban  \n",
       "4             5  Urban  "
      ]
     },
     "execution_count": 9,
     "metadata": {},
     "output_type": "execute_result"
    }
   ],
   "source": [
    "#city_ride_data = pd.merge(city_data, ride_data, how= 'inner', on = 'city')\n",
    "all_data = pd.merge(ride_data,city_data, how= 'inner', on = 'city')\n",
    "all_data.head()"
   ]
  },
  {
   "cell_type": "code",
   "execution_count": 10,
   "metadata": {},
   "outputs": [],
   "source": [
    "#ride_share_data = ride_data.merge(city_data, how = 'inner', on = 'city')\n",
    "#ride_share_data.head()"
   ]
  },
  {
   "cell_type": "markdown",
   "metadata": {},
   "source": [
    "### Average Fare Per City"
   ]
  },
  {
   "cell_type": "code",
   "execution_count": 11,
   "metadata": {},
   "outputs": [
    {
     "data": {
      "text/html": [
       "<div>\n",
       "<style scoped>\n",
       "    .dataframe tbody tr th:only-of-type {\n",
       "        vertical-align: middle;\n",
       "    }\n",
       "\n",
       "    .dataframe tbody tr th {\n",
       "        vertical-align: top;\n",
       "    }\n",
       "\n",
       "    .dataframe thead th {\n",
       "        text-align: right;\n",
       "    }\n",
       "</style>\n",
       "<table border=\"1\" class=\"dataframe\">\n",
       "  <thead>\n",
       "    <tr style=\"text-align: right;\">\n",
       "      <th></th>\n",
       "      <th>fare</th>\n",
       "      <th>ride_id</th>\n",
       "      <th>driver_count</th>\n",
       "    </tr>\n",
       "    <tr>\n",
       "      <th>city</th>\n",
       "      <th></th>\n",
       "      <th></th>\n",
       "      <th></th>\n",
       "    </tr>\n",
       "  </thead>\n",
       "  <tbody>\n",
       "    <tr>\n",
       "      <th>Amandaburgh</th>\n",
       "      <td>24.64</td>\n",
       "      <td>5.359336e+12</td>\n",
       "      <td>12.0</td>\n",
       "    </tr>\n",
       "    <tr>\n",
       "      <th>Barajasview</th>\n",
       "      <td>25.33</td>\n",
       "      <td>4.676968e+12</td>\n",
       "      <td>26.0</td>\n",
       "    </tr>\n",
       "    <tr>\n",
       "      <th>Barronchester</th>\n",
       "      <td>36.42</td>\n",
       "      <td>4.460796e+12</td>\n",
       "      <td>11.0</td>\n",
       "    </tr>\n",
       "  </tbody>\n",
       "</table>\n",
       "</div>"
      ],
      "text/plain": [
       "                fare       ride_id  driver_count\n",
       "city                                            \n",
       "Amandaburgh    24.64  5.359336e+12          12.0\n",
       "Barajasview    25.33  4.676968e+12          26.0\n",
       "Barronchester  36.42  4.460796e+12          11.0"
      ]
     },
     "execution_count": 11,
     "metadata": {},
     "output_type": "execute_result"
    }
   ],
   "source": [
    "# goupds by city using 'city' as the index\n",
    "cities = all_data.groupby('city')\n",
    "\n",
    "# data frame with mean for numerical columns\n",
    "cities.mean().round(2).head(3)"
   ]
  },
  {
   "cell_type": "code",
   "execution_count": 12,
   "metadata": {},
   "outputs": [
    {
     "data": {
      "text/plain": [
       "city\n",
       "Amandaburgh             24.64\n",
       "Barajasview             25.33\n",
       "Barronchester           36.42\n",
       "Bethanyland             32.96\n",
       "Bradshawfurt            40.06\n",
       "Brandonfort             35.44\n",
       "Carriemouth             28.31\n",
       "Christopherfurt         24.50\n",
       "Colemanland             30.89\n",
       "Davidfurt               32.00\n",
       "Deanville               25.84\n",
       "East Aaronbury          25.66\n",
       "East Danielview         31.56\n",
       "East Kaylahaven         23.76\n",
       "East Kentstad           29.82\n",
       "East Marymouth          30.84\n",
       "Erikaland               24.91\n",
       "Garzaport               24.12\n",
       "Grahamburgh             25.22\n",
       "Grayville               27.76\n",
       "Harringtonfort          33.47\n",
       "Huntermouth             28.99\n",
       "Hurleymouth             25.89\n",
       "Jerryton                25.65\n",
       "Jessicaport             36.01\n",
       "Johnton                 26.79\n",
       "Joneschester            22.29\n",
       "Josephside              32.86\n",
       "Justinberg              23.69\n",
       "Karenberg               26.34\n",
       "                        ...  \n",
       "South Evanton           26.73\n",
       "South Jack              22.97\n",
       "South Jennifer          35.26\n",
       "South Karenland         26.54\n",
       "South Latoya            20.09\n",
       "South Marychester       41.87\n",
       "South Michelleport      24.45\n",
       "South Phillip           28.57\n",
       "South Saramouth         36.16\n",
       "South Teresa            31.22\n",
       "Taylorhaven             42.26\n",
       "Valentineton            24.64\n",
       "Veronicaberg            32.83\n",
       "Victoriaport            27.78\n",
       "West Angela             25.99\n",
       "West Anthony            24.74\n",
       "West Christopherberg    24.42\n",
       "West Ericstad           22.35\n",
       "West Gabriel            20.35\n",
       "West Hannah             29.55\n",
       "West Heather            33.89\n",
       "West Heidi              23.13\n",
       "West Josephberg         21.72\n",
       "West Kimmouth           29.87\n",
       "West Patrickchester     28.23\n",
       "West Robert             25.12\n",
       "West Samuelburgh        21.77\n",
       "Williamsonville         31.87\n",
       "Williamsstad            24.36\n",
       "Williamsview            26.60\n",
       "Name: fare, Length: 120, dtype: float64"
      ]
     },
     "execution_count": 12,
     "metadata": {},
     "output_type": "execute_result"
    }
   ],
   "source": [
    "# Returns a Series with average fare per city\n",
    "cities['fare'].mean().round(2)"
   ]
  },
  {
   "cell_type": "markdown",
   "metadata": {},
   "source": [
    "### Total Number of Rides Per City"
   ]
  },
  {
   "cell_type": "code",
   "execution_count": 13,
   "metadata": {},
   "outputs": [
    {
     "data": {
      "text/plain": [
       "2375"
      ]
     },
     "execution_count": 13,
     "metadata": {},
     "output_type": "execute_result"
    }
   ],
   "source": [
    "cities['ride_id'].nunique().sum()"
   ]
  },
  {
   "cell_type": "code",
   "execution_count": 14,
   "metadata": {
    "scrolled": true
   },
   "outputs": [
    {
     "data": {
      "text/plain": [
       "city\n",
       "Amandaburgh              443.55\n",
       "Barajasview              557.31\n",
       "Barronchester            582.76\n",
       "Bethanyland              593.21\n",
       "Bradshawfurt             400.64\n",
       "Brandonfort              673.31\n",
       "Carriemouth              764.49\n",
       "Christopherfurt          661.55\n",
       "Colemanland              679.68\n",
       "Davidfurt                543.93\n",
       "Deanville                491.01\n",
       "East Aaronbury           230.95\n",
       "East Danielview          536.53\n",
       "East Kaylahaven          688.98\n",
       "East Kentstad            387.70\n",
       "East Marymouth           832.55\n",
       "Erikaland                298.88\n",
       "Garzaport                 72.37\n",
       "Grahamburgh              630.53\n",
       "Grayville                416.45\n",
       "Harringtonfort           200.82\n",
       "Huntermouth              695.85\n",
       "Hurleymouth              724.96\n",
       "Jerryton                 641.23\n",
       "Jessicaport              216.08\n",
       "Johnton                  562.50\n",
       "Joneschester             557.24\n",
       "Josephside               887.17\n",
       "Justinberg               710.83\n",
       "Karenberg                447.78\n",
       "                         ...   \n",
       "South Evanton            828.51\n",
       "South Jack               436.34\n",
       "South Jennifer           246.85\n",
       "South Karenland         1008.35\n",
       "South Latoya             381.77\n",
       "South Marychester        334.96\n",
       "South Michelleport       758.00\n",
       "South Phillip            885.71\n",
       "South Saramouth          144.64\n",
       "South Teresa             686.85\n",
       "Taylorhaven              253.58\n",
       "Valentineton             542.00\n",
       "Veronicaberg             558.08\n",
       "Victoriaport             388.92\n",
       "West Angela             1013.61\n",
       "West Anthony             742.10\n",
       "West Christopherberg     634.95\n",
       "West Ericstad            402.25\n",
       "West Gabriel             467.96\n",
       "West Hannah              620.50\n",
       "West Heather             305.01\n",
       "West Heidi               647.75\n",
       "West Josephberg          564.73\n",
       "West Kimmouth            597.43\n",
       "West Patrickchester      451.73\n",
       "West Robert              778.84\n",
       "West Samuelburgh         544.19\n",
       "Williamsonville          446.25\n",
       "Williamsstad             560.33\n",
       "Williamsview             531.98\n",
       "Name: fare, Length: 120, dtype: float64"
      ]
     },
     "execution_count": 14,
     "metadata": {},
     "output_type": "execute_result"
    }
   ],
   "source": [
    "# Returns a Series with total number of rides per city\n",
    "cities['fare'].sum().round(2)"
   ]
  },
  {
   "cell_type": "markdown",
   "metadata": {},
   "source": [
    "### Total Number of Drivers Per City"
   ]
  },
  {
   "cell_type": "code",
   "execution_count": 15,
   "metadata": {
    "scrolled": true
   },
   "outputs": [
    {
     "data": {
      "text/plain": [
       "city\n",
       "Amandaburgh      12\n",
       "Barajasview      26\n",
       "Barronchester    11\n",
       "Name: driver_count, dtype: int64"
      ]
     },
     "execution_count": 15,
     "metadata": {},
     "output_type": "execute_result"
    }
   ],
   "source": [
    "cities['driver_count'].max().head(3)"
   ]
  },
  {
   "cell_type": "code",
   "execution_count": 16,
   "metadata": {},
   "outputs": [
    {
     "data": {
      "text/plain": [
       "72.37"
      ]
     },
     "execution_count": 16,
     "metadata": {},
     "output_type": "execute_result"
    }
   ],
   "source": [
    "cities.get_group('Garzaport')['fare'].sum()"
   ]
  },
  {
   "cell_type": "code",
   "execution_count": 17,
   "metadata": {},
   "outputs": [
    {
     "data": {
      "text/plain": [
       "24.123333333333335"
      ]
     },
     "execution_count": 17,
     "metadata": {},
     "output_type": "execute_result"
    }
   ],
   "source": [
    "cities.get_group('Garzaport')['fare'].mean()"
   ]
  },
  {
   "cell_type": "code",
   "execution_count": null,
   "metadata": {},
   "outputs": [],
   "source": []
  },
  {
   "cell_type": "code",
   "execution_count": 18,
   "metadata": {},
   "outputs": [],
   "source": [
    "cities_grp_by_type = all_data.groupby('type')"
   ]
  },
  {
   "cell_type": "code",
   "execution_count": 19,
   "metadata": {},
   "outputs": [
    {
     "data": {
      "text/plain": [
       "type\n",
       "Rural        125\n",
       "Suburban     625\n",
       "Urban       1625\n",
       "Name: ride_id, dtype: int64"
      ]
     },
     "execution_count": 19,
     "metadata": {},
     "output_type": "execute_result"
    }
   ],
   "source": [
    "cities_grp_by_type['ride_id'].nunique()"
   ]
  },
  {
   "cell_type": "code",
   "execution_count": 20,
   "metadata": {},
   "outputs": [
    {
     "data": {
      "text/plain": [
       "type\n",
       "Rural        4327.93\n",
       "Suburban    19356.33\n",
       "Urban       39854.38\n",
       "Name: fare, dtype: float64"
      ]
     },
     "execution_count": 20,
     "metadata": {},
     "output_type": "execute_result"
    }
   ],
   "source": [
    "cities_grp_by_type['fare'].sum()"
   ]
  },
  {
   "cell_type": "code",
   "execution_count": 21,
   "metadata": {},
   "outputs": [
    {
     "data": {
      "text/plain": [
       "type\n",
       "Rural       34.623440\n",
       "Suburban    30.970128\n",
       "Urban       24.525772\n",
       "Name: fare, dtype: float64"
      ]
     },
     "execution_count": 21,
     "metadata": {},
     "output_type": "execute_result"
    }
   ],
   "source": [
    "cities_grp_by_type['fare'].mean()"
   ]
  },
  {
   "cell_type": "code",
   "execution_count": 22,
   "metadata": {},
   "outputs": [
    {
     "data": {
      "text/plain": [
       "1625"
      ]
     },
     "execution_count": 22,
     "metadata": {},
     "output_type": "execute_result"
    }
   ],
   "source": [
    "cities_grp_by_type.get_group('Urban')['ride_id'].nunique()"
   ]
  },
  {
   "cell_type": "code",
   "execution_count": 23,
   "metadata": {},
   "outputs": [
    {
     "data": {
      "text/plain": [
       "2375"
      ]
     },
     "execution_count": 23,
     "metadata": {},
     "output_type": "execute_result"
    }
   ],
   "source": [
    "cities['ride_id'].value_counts().sum()"
   ]
  },
  {
   "cell_type": "code",
   "execution_count": 24,
   "metadata": {
    "scrolled": true
   },
   "outputs": [
    {
     "data": {
      "text/plain": [
       "2375"
      ]
     },
     "execution_count": 24,
     "metadata": {},
     "output_type": "execute_result"
    }
   ],
   "source": [
    "cities['fare'].value_counts().sum()"
   ]
  },
  {
   "cell_type": "code",
   "execution_count": 25,
   "metadata": {},
   "outputs": [
    {
     "ename": "AttributeError",
     "evalue": "'DataFrameGroupBy' object has no attribute 'value_counts'",
     "output_type": "error",
     "traceback": [
      "\u001b[0;31m---------------------------------------------------------------------------\u001b[0m",
      "\u001b[0;31mAttributeError\u001b[0m                            Traceback (most recent call last)",
      "\u001b[0;32m<ipython-input-25-b2c800d4c6e6>\u001b[0m in \u001b[0;36m<module>\u001b[0;34m\u001b[0m\n\u001b[0;32m----> 1\u001b[0;31m \u001b[0mcities\u001b[0m\u001b[0;34m.\u001b[0m\u001b[0mvalue_counts\u001b[0m\u001b[0;34m(\u001b[0m\u001b[0;34m)\u001b[0m\u001b[0;34m\u001b[0m\u001b[0m\n\u001b[0m",
      "\u001b[0;32m~/.local/lib/python3.6/site-packages/pandas/core/groupby/groupby.py\u001b[0m in \u001b[0;36m__getattr__\u001b[0;34m(self, attr)\u001b[0m\n\u001b[1;32m    534\u001b[0m \u001b[0;34m\u001b[0m\u001b[0m\n\u001b[1;32m    535\u001b[0m         raise AttributeError(\"%r object has no attribute %r\" %\n\u001b[0;32m--> 536\u001b[0;31m                              (type(self).__name__, attr))\n\u001b[0m\u001b[1;32m    537\u001b[0m \u001b[0;34m\u001b[0m\u001b[0m\n\u001b[1;32m    538\u001b[0m     @Substitution(klass='GroupBy',\n",
      "\u001b[0;31mAttributeError\u001b[0m: 'DataFrameGroupBy' object has no attribute 'value_counts'"
     ]
    }
   ],
   "source": [
    "cities.value_counts()"
   ]
  },
  {
   "cell_type": "code",
   "execution_count": null,
   "metadata": {},
   "outputs": [],
   "source": []
  },
  {
   "cell_type": "code",
   "execution_count": 26,
   "metadata": {},
   "outputs": [
    {
     "data": {
      "text/html": [
       "<div>\n",
       "<style scoped>\n",
       "    .dataframe tbody tr th:only-of-type {\n",
       "        vertical-align: middle;\n",
       "    }\n",
       "\n",
       "    .dataframe tbody tr th {\n",
       "        vertical-align: top;\n",
       "    }\n",
       "\n",
       "    .dataframe thead th {\n",
       "        text-align: right;\n",
       "    }\n",
       "</style>\n",
       "<table border=\"1\" class=\"dataframe\">\n",
       "  <thead>\n",
       "    <tr style=\"text-align: right;\">\n",
       "      <th></th>\n",
       "      <th>city</th>\n",
       "      <th>date</th>\n",
       "      <th>fare</th>\n",
       "      <th>ride_id</th>\n",
       "      <th>driver_count</th>\n",
       "      <th>type</th>\n",
       "    </tr>\n",
       "  </thead>\n",
       "  <tbody>\n",
       "    <tr>\n",
       "      <th>0</th>\n",
       "      <td>Lake Jonathanshire</td>\n",
       "      <td>2018-01-14 10:14:22</td>\n",
       "      <td>13.83</td>\n",
       "      <td>5739410935873</td>\n",
       "      <td>5</td>\n",
       "      <td>Urban</td>\n",
       "    </tr>\n",
       "    <tr>\n",
       "      <th>1</th>\n",
       "      <td>Lake Jonathanshire</td>\n",
       "      <td>2018-04-07 20:51:11</td>\n",
       "      <td>31.25</td>\n",
       "      <td>4441251834598</td>\n",
       "      <td>5</td>\n",
       "      <td>Urban</td>\n",
       "    </tr>\n",
       "    <tr>\n",
       "      <th>2</th>\n",
       "      <td>Lake Jonathanshire</td>\n",
       "      <td>2018-03-09 23:45:55</td>\n",
       "      <td>19.89</td>\n",
       "      <td>2389495660448</td>\n",
       "      <td>5</td>\n",
       "      <td>Urban</td>\n",
       "    </tr>\n",
       "    <tr>\n",
       "      <th>3</th>\n",
       "      <td>Lake Jonathanshire</td>\n",
       "      <td>2018-04-07 18:09:21</td>\n",
       "      <td>24.28</td>\n",
       "      <td>7796805191168</td>\n",
       "      <td>5</td>\n",
       "      <td>Urban</td>\n",
       "    </tr>\n",
       "    <tr>\n",
       "      <th>4</th>\n",
       "      <td>Lake Jonathanshire</td>\n",
       "      <td>2018-01-02 14:14:50</td>\n",
       "      <td>13.89</td>\n",
       "      <td>424254840012</td>\n",
       "      <td>5</td>\n",
       "      <td>Urban</td>\n",
       "    </tr>\n",
       "    <tr>\n",
       "      <th>1625</th>\n",
       "      <td>Barronchester</td>\n",
       "      <td>2018-01-27 03:08:01</td>\n",
       "      <td>27.79</td>\n",
       "      <td>6653622887913</td>\n",
       "      <td>11</td>\n",
       "      <td>Suburban</td>\n",
       "    </tr>\n",
       "    <tr>\n",
       "      <th>1626</th>\n",
       "      <td>Barronchester</td>\n",
       "      <td>2018-05-05 04:03:11</td>\n",
       "      <td>30.38</td>\n",
       "      <td>2281522828169</td>\n",
       "      <td>11</td>\n",
       "      <td>Suburban</td>\n",
       "    </tr>\n",
       "    <tr>\n",
       "      <th>1627</th>\n",
       "      <td>Barronchester</td>\n",
       "      <td>2018-04-25 19:11:43</td>\n",
       "      <td>36.13</td>\n",
       "      <td>2660177707065</td>\n",
       "      <td>11</td>\n",
       "      <td>Suburban</td>\n",
       "    </tr>\n",
       "    <tr>\n",
       "      <th>1628</th>\n",
       "      <td>Barronchester</td>\n",
       "      <td>2018-03-31 06:05:30</td>\n",
       "      <td>44.24</td>\n",
       "      <td>1252888806772</td>\n",
       "      <td>11</td>\n",
       "      <td>Suburban</td>\n",
       "    </tr>\n",
       "    <tr>\n",
       "      <th>1629</th>\n",
       "      <td>Barronchester</td>\n",
       "      <td>2018-03-02 23:36:58</td>\n",
       "      <td>36.49</td>\n",
       "      <td>4031573980778</td>\n",
       "      <td>11</td>\n",
       "      <td>Suburban</td>\n",
       "    </tr>\n",
       "    <tr>\n",
       "      <th>2250</th>\n",
       "      <td>Randallchester</td>\n",
       "      <td>2018-04-13 11:13:31</td>\n",
       "      <td>43.22</td>\n",
       "      <td>1076079536213</td>\n",
       "      <td>9</td>\n",
       "      <td>Rural</td>\n",
       "    </tr>\n",
       "    <tr>\n",
       "      <th>2251</th>\n",
       "      <td>Randallchester</td>\n",
       "      <td>2018-02-19 03:52:47</td>\n",
       "      <td>58.55</td>\n",
       "      <td>8004803682564</td>\n",
       "      <td>9</td>\n",
       "      <td>Rural</td>\n",
       "    </tr>\n",
       "    <tr>\n",
       "      <th>2252</th>\n",
       "      <td>Randallchester</td>\n",
       "      <td>2018-02-11 05:42:29</td>\n",
       "      <td>25.78</td>\n",
       "      <td>9010611749008</td>\n",
       "      <td>9</td>\n",
       "      <td>Rural</td>\n",
       "    </tr>\n",
       "    <tr>\n",
       "      <th>2253</th>\n",
       "      <td>Randallchester</td>\n",
       "      <td>2018-03-25 13:36:46</td>\n",
       "      <td>10.37</td>\n",
       "      <td>3216382725494</td>\n",
       "      <td>9</td>\n",
       "      <td>Rural</td>\n",
       "    </tr>\n",
       "    <tr>\n",
       "      <th>2254</th>\n",
       "      <td>Randallchester</td>\n",
       "      <td>2018-04-07 23:42:07</td>\n",
       "      <td>10.79</td>\n",
       "      <td>1615474447641</td>\n",
       "      <td>9</td>\n",
       "      <td>Rural</td>\n",
       "    </tr>\n",
       "  </tbody>\n",
       "</table>\n",
       "</div>"
      ],
      "text/plain": [
       "                    city                 date   fare        ride_id  \\\n",
       "0     Lake Jonathanshire  2018-01-14 10:14:22  13.83  5739410935873   \n",
       "1     Lake Jonathanshire  2018-04-07 20:51:11  31.25  4441251834598   \n",
       "2     Lake Jonathanshire  2018-03-09 23:45:55  19.89  2389495660448   \n",
       "3     Lake Jonathanshire  2018-04-07 18:09:21  24.28  7796805191168   \n",
       "4     Lake Jonathanshire  2018-01-02 14:14:50  13.89   424254840012   \n",
       "1625       Barronchester  2018-01-27 03:08:01  27.79  6653622887913   \n",
       "1626       Barronchester  2018-05-05 04:03:11  30.38  2281522828169   \n",
       "1627       Barronchester  2018-04-25 19:11:43  36.13  2660177707065   \n",
       "1628       Barronchester  2018-03-31 06:05:30  44.24  1252888806772   \n",
       "1629       Barronchester  2018-03-02 23:36:58  36.49  4031573980778   \n",
       "2250      Randallchester  2018-04-13 11:13:31  43.22  1076079536213   \n",
       "2251      Randallchester  2018-02-19 03:52:47  58.55  8004803682564   \n",
       "2252      Randallchester  2018-02-11 05:42:29  25.78  9010611749008   \n",
       "2253      Randallchester  2018-03-25 13:36:46  10.37  3216382725494   \n",
       "2254      Randallchester  2018-04-07 23:42:07  10.79  1615474447641   \n",
       "\n",
       "      driver_count      type  \n",
       "0                5     Urban  \n",
       "1                5     Urban  \n",
       "2                5     Urban  \n",
       "3                5     Urban  \n",
       "4                5     Urban  \n",
       "1625            11  Suburban  \n",
       "1626            11  Suburban  \n",
       "1627            11  Suburban  \n",
       "1628            11  Suburban  \n",
       "1629            11  Suburban  \n",
       "2250             9     Rural  \n",
       "2251             9     Rural  \n",
       "2252             9     Rural  \n",
       "2253             9     Rural  \n",
       "2254             9     Rural  "
      ]
     },
     "execution_count": 26,
     "metadata": {},
     "output_type": "execute_result"
    }
   ],
   "source": [
    "cities_grp_by_type.head()"
   ]
  },
  {
   "cell_type": "code",
   "execution_count": 27,
   "metadata": {},
   "outputs": [
    {
     "data": {
      "text/plain": [
       "3"
      ]
     },
     "execution_count": 27,
     "metadata": {},
     "output_type": "execute_result"
    }
   ],
   "source": [
    "len(cities_grp_by_type)"
   ]
  },
  {
   "cell_type": "code",
   "execution_count": 28,
   "metadata": {},
   "outputs": [
    {
     "data": {
      "text/html": [
       "<div>\n",
       "<style scoped>\n",
       "    .dataframe tbody tr th:only-of-type {\n",
       "        vertical-align: middle;\n",
       "    }\n",
       "\n",
       "    .dataframe tbody tr th {\n",
       "        vertical-align: top;\n",
       "    }\n",
       "\n",
       "    .dataframe thead th {\n",
       "        text-align: right;\n",
       "    }\n",
       "</style>\n",
       "<table border=\"1\" class=\"dataframe\">\n",
       "  <thead>\n",
       "    <tr style=\"text-align: right;\">\n",
       "      <th></th>\n",
       "      <th>fare</th>\n",
       "      <th>ride_id</th>\n",
       "      <th>driver_count</th>\n",
       "    </tr>\n",
       "    <tr>\n",
       "      <th>type</th>\n",
       "      <th></th>\n",
       "      <th></th>\n",
       "      <th></th>\n",
       "    </tr>\n",
       "  </thead>\n",
       "  <tbody>\n",
       "    <tr>\n",
       "      <th>Rural</th>\n",
       "      <td>4327.93</td>\n",
       "      <td>580968240341287</td>\n",
       "      <td>537</td>\n",
       "    </tr>\n",
       "    <tr>\n",
       "      <th>Suburban</th>\n",
       "      <td>19356.33</td>\n",
       "      <td>3106884522576766</td>\n",
       "      <td>8570</td>\n",
       "    </tr>\n",
       "    <tr>\n",
       "      <th>Urban</th>\n",
       "      <td>39854.38</td>\n",
       "      <td>7919412664056093</td>\n",
       "      <td>59602</td>\n",
       "    </tr>\n",
       "  </tbody>\n",
       "</table>\n",
       "</div>"
      ],
      "text/plain": [
       "              fare           ride_id  driver_count\n",
       "type                                              \n",
       "Rural      4327.93   580968240341287           537\n",
       "Suburban  19356.33  3106884522576766          8570\n",
       "Urban     39854.38  7919412664056093         59602"
      ]
     },
     "execution_count": 28,
     "metadata": {},
     "output_type": "execute_result"
    }
   ],
   "source": [
    "cities_grp_by_type.sum()"
   ]
  },
  {
   "cell_type": "code",
   "execution_count": 29,
   "metadata": {},
   "outputs": [
    {
     "data": {
      "text/plain": [
       "2375"
      ]
     },
     "execution_count": 29,
     "metadata": {},
     "output_type": "execute_result"
    }
   ],
   "source": [
    "all_data['ride_id'].nunique()"
   ]
  },
  {
   "cell_type": "code",
   "execution_count": 30,
   "metadata": {},
   "outputs": [
    {
     "data": {
      "text/plain": [
       "2375"
      ]
     },
     "execution_count": 30,
     "metadata": {},
     "output_type": "execute_result"
    }
   ],
   "source": [
    "all_data['fare'].value_counts().sum()"
   ]
  },
  {
   "cell_type": "code",
   "execution_count": 31,
   "metadata": {},
   "outputs": [
    {
     "data": {
      "text/plain": [
       "type\n",
       "Rural        4327.93\n",
       "Suburban    19356.33\n",
       "Urban       39854.38\n",
       "Name: fare, dtype: float64"
      ]
     },
     "execution_count": 31,
     "metadata": {},
     "output_type": "execute_result"
    }
   ],
   "source": [
    "cities_grp_by_type['fare'].sum()"
   ]
  },
  {
   "cell_type": "code",
   "execution_count": 32,
   "metadata": {},
   "outputs": [
    {
     "data": {
      "text/plain": [
       "type\n",
       "Rural       34.623440\n",
       "Suburban    30.970128\n",
       "Urban       24.525772\n",
       "Name: fare, dtype: float64"
      ]
     },
     "execution_count": 32,
     "metadata": {},
     "output_type": "execute_result"
    }
   ],
   "source": [
    "cities_grp_by_type['fare'].mean()"
   ]
  },
  {
   "cell_type": "code",
   "execution_count": 33,
   "metadata": {},
   "outputs": [],
   "source": [
    "jj = cities_grp_by_type.get_group('Urban')['fare'].sum"
   ]
  },
  {
   "cell_type": "code",
   "execution_count": 34,
   "metadata": {
    "scrolled": true
   },
   "outputs": [
    {
     "data": {
      "text/plain": [
       "<bound method Series.sum of 0       13.83\n",
       "1       31.25\n",
       "2       19.89\n",
       "3       24.28\n",
       "4       13.89\n",
       "5       16.84\n",
       "6       37.95\n",
       "7        5.67\n",
       "8       34.65\n",
       "9       14.94\n",
       "10      12.81\n",
       "11      21.11\n",
       "12      41.05\n",
       "13      18.72\n",
       "14      32.47\n",
       "15      25.92\n",
       "16      15.96\n",
       "17      26.27\n",
       "18      37.25\n",
       "19      22.48\n",
       "20      17.58\n",
       "21      28.42\n",
       "22      22.36\n",
       "23      26.63\n",
       "24      30.24\n",
       "25      33.12\n",
       "26      23.77\n",
       "27      43.62\n",
       "28      41.62\n",
       "29      15.45\n",
       "        ...  \n",
       "1595    29.15\n",
       "1596    33.40\n",
       "1597    38.15\n",
       "1598     6.12\n",
       "1599     6.68\n",
       "1600    11.54\n",
       "1601    25.84\n",
       "1602    36.70\n",
       "1603    13.38\n",
       "1604     4.96\n",
       "1605    25.97\n",
       "1606    27.45\n",
       "1607    31.82\n",
       "1608    14.41\n",
       "1609     8.44\n",
       "1610    15.95\n",
       "1611    23.69\n",
       "1612    37.74\n",
       "1613    10.86\n",
       "1614    25.64\n",
       "1615     8.67\n",
       "1616     6.80\n",
       "1617    13.31\n",
       "1618    11.71\n",
       "1619    31.98\n",
       "1620    40.17\n",
       "1621    17.03\n",
       "1622     5.58\n",
       "1623    28.13\n",
       "1624    27.57\n",
       "Name: fare, Length: 1625, dtype: float64>"
      ]
     },
     "execution_count": 34,
     "metadata": {},
     "output_type": "execute_result"
    }
   ],
   "source": [
    "jj"
   ]
  },
  {
   "cell_type": "code",
   "execution_count": null,
   "metadata": {},
   "outputs": [],
   "source": []
  },
  {
   "cell_type": "markdown",
   "metadata": {},
   "source": [
    "### City Type (Urban, Suburban, Rural)"
   ]
  },
  {
   "cell_type": "code",
   "execution_count": 35,
   "metadata": {},
   "outputs": [
    {
     "data": {
      "text/plain": [
       "city\n",
       "Amandaburgh                Urban\n",
       "Barajasview                Urban\n",
       "Barronchester           Suburban\n",
       "Bethanyland             Suburban\n",
       "Bradshawfurt               Rural\n",
       "Brandonfort             Suburban\n",
       "Carriemouth                Urban\n",
       "Christopherfurt            Urban\n",
       "Colemanland             Suburban\n",
       "Davidfurt               Suburban\n",
       "Deanville                  Urban\n",
       "East Aaronbury          Suburban\n",
       "East Danielview         Suburban\n",
       "East Kaylahaven            Urban\n",
       "East Kentstad           Suburban\n",
       "East Marymouth          Suburban\n",
       "Erikaland                  Urban\n",
       "Garzaport                  Rural\n",
       "Grahamburgh                Urban\n",
       "Grayville               Suburban\n",
       "Harringtonfort             Rural\n",
       "Huntermouth                Urban\n",
       "Hurleymouth                Urban\n",
       "Jerryton                   Urban\n",
       "Jessicaport                Rural\n",
       "Johnton                    Urban\n",
       "Joneschester               Urban\n",
       "Josephside              Suburban\n",
       "Justinberg                 Urban\n",
       "Karenberg                  Urban\n",
       "                          ...   \n",
       "South Evanton              Urban\n",
       "South Jack                 Urban\n",
       "South Jennifer             Rural\n",
       "South Karenland            Urban\n",
       "South Latoya               Urban\n",
       "South Marychester          Rural\n",
       "South Michelleport         Urban\n",
       "South Phillip              Urban\n",
       "South Saramouth            Rural\n",
       "South Teresa            Suburban\n",
       "Taylorhaven                Rural\n",
       "Valentineton               Urban\n",
       "Veronicaberg            Suburban\n",
       "Victoriaport            Suburban\n",
       "West Angela                Urban\n",
       "West Anthony               Urban\n",
       "West Christopherberg       Urban\n",
       "West Ericstad              Urban\n",
       "West Gabriel               Urban\n",
       "West Hannah             Suburban\n",
       "West Heather               Rural\n",
       "West Heidi                 Urban\n",
       "West Josephberg            Urban\n",
       "West Kimmouth           Suburban\n",
       "West Patrickchester        Urban\n",
       "West Robert                Urban\n",
       "West Samuelburgh           Urban\n",
       "Williamsonville         Suburban\n",
       "Williamsstad               Urban\n",
       "Williamsview               Urban\n",
       "Name: type, Length: 120, dtype: object"
      ]
     },
     "execution_count": 35,
     "metadata": {},
     "output_type": "execute_result"
    }
   ],
   "source": [
    "cities['type'].first()"
   ]
  },
  {
   "cell_type": "code",
   "execution_count": 36,
   "metadata": {},
   "outputs": [
    {
     "data": {
      "text/plain": [
       "23.425833333333333"
      ]
     },
     "execution_count": 36,
     "metadata": {},
     "output_type": "execute_result"
    }
   ],
   "source": [
    "cities.head(1)\n",
    "cities.get_group('Lake Jonathanshire')['fare'].mean()"
   ]
  },
  {
   "cell_type": "code",
   "execution_count": 37,
   "metadata": {},
   "outputs": [
    {
     "ename": "NameError",
     "evalue": "name 'city_type' is not defined",
     "output_type": "error",
     "traceback": [
      "\u001b[0;31m---------------------------------------------------------------------------\u001b[0m",
      "\u001b[0;31mNameError\u001b[0m                                 Traceback (most recent call last)",
      "\u001b[0;32m<ipython-input-37-33092f00f936>\u001b[0m in \u001b[0;36m<module>\u001b[0;34m\u001b[0m\n\u001b[0;32m----> 1\u001b[0;31m \u001b[0mlen\u001b[0m\u001b[0;34m(\u001b[0m\u001b[0mcity_type\u001b[0m\u001b[0;34m)\u001b[0m\u001b[0;34m\u001b[0m\u001b[0m\n\u001b[0m",
      "\u001b[0;31mNameError\u001b[0m: name 'city_type' is not defined"
     ]
    }
   ],
   "source": [
    "len(city_type)"
   ]
  },
  {
   "cell_type": "code",
   "execution_count": 38,
   "metadata": {},
   "outputs": [
    {
     "data": {
      "text/plain": [
       "120"
      ]
     },
     "execution_count": 38,
     "metadata": {},
     "output_type": "execute_result"
    }
   ],
   "source": [
    "jj = cities['type'].first()\n",
    "len(jj)"
   ]
  },
  {
   "cell_type": "code",
   "execution_count": 39,
   "metadata": {},
   "outputs": [
    {
     "data": {
      "text/plain": [
       "'Urban'"
      ]
     },
     "execution_count": 39,
     "metadata": {},
     "output_type": "execute_result"
    }
   ],
   "source": [
    "jj.iloc[0]"
   ]
  },
  {
   "cell_type": "code",
   "execution_count": 40,
   "metadata": {},
   "outputs": [
    {
     "data": {
      "text/plain": [
       "city\n",
       "Amandaburgh              443.55\n",
       "Barajasview              557.31\n",
       "Barronchester            582.76\n",
       "Bethanyland              593.21\n",
       "Bradshawfurt             400.64\n",
       "Brandonfort              673.31\n",
       "Carriemouth              764.49\n",
       "Christopherfurt          661.55\n",
       "Colemanland              679.68\n",
       "Davidfurt                543.93\n",
       "Deanville                491.01\n",
       "East Aaronbury           230.95\n",
       "East Danielview          536.53\n",
       "East Kaylahaven          688.98\n",
       "East Kentstad            387.70\n",
       "East Marymouth           832.55\n",
       "Erikaland                298.88\n",
       "Garzaport                 72.37\n",
       "Grahamburgh              630.53\n",
       "Grayville                416.45\n",
       "Harringtonfort           200.82\n",
       "Huntermouth              695.85\n",
       "Hurleymouth              724.96\n",
       "Jerryton                 641.23\n",
       "Jessicaport              216.08\n",
       "Johnton                  562.50\n",
       "Joneschester             557.24\n",
       "Josephside               887.17\n",
       "Justinberg               710.83\n",
       "Karenberg                447.78\n",
       "                         ...   \n",
       "South Evanton            828.51\n",
       "South Jack               436.34\n",
       "South Jennifer           246.85\n",
       "South Karenland         1008.35\n",
       "South Latoya             381.77\n",
       "South Marychester        334.96\n",
       "South Michelleport       758.00\n",
       "South Phillip            885.71\n",
       "South Saramouth          144.64\n",
       "South Teresa             686.85\n",
       "Taylorhaven              253.58\n",
       "Valentineton             542.00\n",
       "Veronicaberg             558.08\n",
       "Victoriaport             388.92\n",
       "West Angela             1013.61\n",
       "West Anthony             742.10\n",
       "West Christopherberg     634.95\n",
       "West Ericstad            402.25\n",
       "West Gabriel             467.96\n",
       "West Hannah              620.50\n",
       "West Heather             305.01\n",
       "West Heidi               647.75\n",
       "West Josephberg          564.73\n",
       "West Kimmouth            597.43\n",
       "West Patrickchester      451.73\n",
       "West Robert              778.84\n",
       "West Samuelburgh         544.19\n",
       "Williamsonville          446.25\n",
       "Williamsstad             560.33\n",
       "Williamsview             531.98\n",
       "Name: fare, Length: 120, dtype: float64"
      ]
     },
     "execution_count": 40,
     "metadata": {},
     "output_type": "execute_result"
    }
   ],
   "source": [
    "cities['fare'].sum()"
   ]
  },
  {
   "cell_type": "markdown",
   "metadata": {},
   "source": [
    "## Bubble Plot of Ride Sharing Data"
   ]
  },
  {
   "cell_type": "code",
   "execution_count": 41,
   "metadata": {
    "scrolled": true
   },
   "outputs": [],
   "source": [
    "\n",
    "# Obtain the x and y coordinates for each of the three city types\n",
    "\n",
    "# Build the scatter plots for each city types\n",
    "\n",
    "# Incorporate the other graph properties\n",
    "\n",
    "# Create a legend\n",
    "\n",
    "# Incorporate a text label regarding circle size\n",
    "\n",
    "# Save Figure\n"
   ]
  },
  {
   "cell_type": "code",
   "execution_count": null,
   "metadata": {},
   "outputs": [],
   "source": []
  },
  {
   "cell_type": "code",
   "execution_count": 42,
   "metadata": {},
   "outputs": [
    {
     "data": {
      "text/plain": [
       "2375"
      ]
     },
     "execution_count": 42,
     "metadata": {},
     "output_type": "execute_result"
    }
   ],
   "source": [
    "cities['ride_id'].nunique().sum()"
   ]
  },
  {
   "cell_type": "code",
   "execution_count": 43,
   "metadata": {},
   "outputs": [
    {
     "data": {
      "text/plain": [
       "2375"
      ]
     },
     "execution_count": 43,
     "metadata": {},
     "output_type": "execute_result"
    }
   ],
   "source": [
    "cities['ride_id'].value_counts().sum()"
   ]
  },
  {
   "cell_type": "code",
   "execution_count": 44,
   "metadata": {},
   "outputs": [
    {
     "ename": "NameError",
     "evalue": "name 'x_axis' is not defined",
     "output_type": "error",
     "traceback": [
      "\u001b[0;31m---------------------------------------------------------------------------\u001b[0m",
      "\u001b[0;31mNameError\u001b[0m                                 Traceback (most recent call last)",
      "\u001b[0;32m<ipython-input-44-183355cd84d2>\u001b[0m in \u001b[0;36m<module>\u001b[0;34m\u001b[0m\n\u001b[1;32m     16\u001b[0m     \u001b[0mcolor_list\u001b[0m\u001b[0;34m.\u001b[0m\u001b[0mappend\u001b[0m\u001b[0;34m(\u001b[0m\u001b[0mcolor\u001b[0m\u001b[0;34m)\u001b[0m\u001b[0;34m\u001b[0m\u001b[0m\n\u001b[1;32m     17\u001b[0m \u001b[0;34m\u001b[0m\u001b[0m\n\u001b[0;32m---> 18\u001b[0;31m \u001b[0mplt\u001b[0m\u001b[0;34m.\u001b[0m\u001b[0mscatter\u001b[0m\u001b[0;34m(\u001b[0m\u001b[0mx_axis\u001b[0m\u001b[0;34m,\u001b[0m \u001b[0my_axis\u001b[0m\u001b[0;34m,\u001b[0m \u001b[0mc\u001b[0m \u001b[0;34m=\u001b[0m \u001b[0mcolor_list\u001b[0m\u001b[0;34m,\u001b[0m \u001b[0ms\u001b[0m\u001b[0;34m=\u001b[0m\u001b[0mdriver_count\u001b[0m\u001b[0;34m*\u001b[0m\u001b[0;36m4\u001b[0m\u001b[0;34m,\u001b[0m \u001b[0mlabel\u001b[0m\u001b[0;34m=\u001b[0m\u001b[0;34m[\u001b[0m\u001b[0;34m'Urban'\u001b[0m\u001b[0;34m,\u001b[0m\u001b[0;34m'Suburban'\u001b[0m\u001b[0;34m,\u001b[0m\u001b[0;34m'Rural'\u001b[0m\u001b[0;34m]\u001b[0m\u001b[0;34m)\u001b[0m\u001b[0;34m.\u001b[0m\u001b[0mset_alpha\u001b[0m\u001b[0;34m(\u001b[0m\u001b[0;36m0.65\u001b[0m\u001b[0;34m)\u001b[0m\u001b[0;34m\u001b[0m\u001b[0m\n\u001b[0m\u001b[1;32m     19\u001b[0m \u001b[0mplt\u001b[0m\u001b[0;34m.\u001b[0m\u001b[0mxlabel\u001b[0m\u001b[0;34m(\u001b[0m\u001b[0;34m'Total Number of Rides (Per City)'\u001b[0m\u001b[0;34m)\u001b[0m\u001b[0;34m\u001b[0m\u001b[0m\n\u001b[1;32m     20\u001b[0m \u001b[0mplt\u001b[0m\u001b[0;34m.\u001b[0m\u001b[0mylabel\u001b[0m\u001b[0;34m(\u001b[0m\u001b[0;34m'Average Fare ($)'\u001b[0m\u001b[0;34m)\u001b[0m\u001b[0;34m\u001b[0m\u001b[0m\n",
      "\u001b[0;31mNameError\u001b[0m: name 'x_axis' is not defined"
     ]
    }
   ],
   "source": [
    "#x_axis = cities['fare'].sum().round(2)\n",
    "x_aixs = cities['ride_id'].value_counts()\n",
    "y_axis = cities['fare'].mean().round(2)\n",
    "driver_count = cities['driver_count'].max()\n",
    "city_type = cities['type'].first()\n",
    "#colors = {'Urban':'gold', 'Suburban': 'lightskyblue', 'Rural':'lightcoral'}\n",
    "city_type = cities['type'].first()\n",
    "color_list = []\n",
    "for city_type in cities['type'].first():\n",
    "    if city_type == 'Urban':\n",
    "        color = 'gold'\n",
    "    elif city_type == 'Suburban':\n",
    "        color = 'lightskyblue'\n",
    "    else:\n",
    "        color = 'lightcoral'\n",
    "    color_list.append(color)\n",
    "   \n",
    "plt.scatter(x_axis, y_axis, c = color_list, s=driver_count*4, label=['Urban','Suburban','Rural']).set_alpha(0.65)\n",
    "plt.xlabel('Total Number of Rides (Per City)')\n",
    "plt.ylabel('Average Fare ($)')\n",
    "plt.title('Pyber ride Sharing Data (2018)')\n",
    "#plt.legend({'Urban':'gold', 'Suburban':'lightcoral', 'Rural':'lightskyblue'})\n",
    "#plt.legend(('Urban','Suburban','Rural'))\n",
    "plt.legend()\n",
    "plt.show()"
   ]
  },
  {
   "cell_type": "markdown",
   "metadata": {},
   "source": [
    "## Total Fares by City Type"
   ]
  },
  {
   "cell_type": "code",
   "execution_count": 45,
   "metadata": {},
   "outputs": [],
   "source": [
    "# Calculate Type Percents\n",
    "\n",
    "# Build Pie Chart\n",
    "\n",
    "# Save Figure\n"
   ]
  },
  {
   "cell_type": "code",
   "execution_count": null,
   "metadata": {},
   "outputs": [],
   "source": []
  },
  {
   "cell_type": "code",
   "execution_count": 46,
   "metadata": {},
   "outputs": [
    {
     "ename": "IndexError",
     "evalue": "Column(s) fare already selected",
     "output_type": "error",
     "traceback": [
      "\u001b[0;31m---------------------------------------------------------------------------\u001b[0m",
      "\u001b[0;31mIndexError\u001b[0m                                Traceback (most recent call last)",
      "\u001b[0;32m<ipython-input-46-1d83546de598>\u001b[0m in \u001b[0;36m<module>\u001b[0;34m\u001b[0m\n\u001b[0;32m----> 1\u001b[0;31m \u001b[0mtotal_fares_by_city_type\u001b[0m \u001b[0;34m=\u001b[0m \u001b[0mcities\u001b[0m\u001b[0;34m[\u001b[0m\u001b[0;34m'fare'\u001b[0m\u001b[0;34m]\u001b[0m\u001b[0;34m[\u001b[0m\u001b[0mtype\u001b[0m\u001b[0;34m]\u001b[0m\u001b[0;34m.\u001b[0m\u001b[0msum\u001b[0m\u001b[0;34m(\u001b[0m\u001b[0;34m)\u001b[0m\u001b[0;34m.\u001b[0m\u001b[0mround\u001b[0m\u001b[0;34m(\u001b[0m\u001b[0;36m2\u001b[0m\u001b[0;34m)\u001b[0m\u001b[0;34m\u001b[0m\u001b[0m\n\u001b[0m",
      "\u001b[0;32m~/.local/lib/python3.6/site-packages/pandas/core/base.py\u001b[0m in \u001b[0;36m__getitem__\u001b[0;34m(self, key)\u001b[0m\n\u001b[1;32m    256\u001b[0m         \u001b[0;32mif\u001b[0m \u001b[0mself\u001b[0m\u001b[0;34m.\u001b[0m\u001b[0m_selection\u001b[0m \u001b[0;32mis\u001b[0m \u001b[0;32mnot\u001b[0m \u001b[0;32mNone\u001b[0m\u001b[0;34m:\u001b[0m\u001b[0;34m\u001b[0m\u001b[0m\n\u001b[1;32m    257\u001b[0m             raise IndexError('Column(s) {selection} already selected'\n\u001b[0;32m--> 258\u001b[0;31m                              .format(selection=self._selection))\n\u001b[0m\u001b[1;32m    259\u001b[0m \u001b[0;34m\u001b[0m\u001b[0m\n\u001b[1;32m    260\u001b[0m         if isinstance(key, (list, tuple, ABCSeries, ABCIndexClass,\n",
      "\u001b[0;31mIndexError\u001b[0m: Column(s) fare already selected"
     ]
    }
   ],
   "source": [
    "total_fares_by_city_type = cities['fare'][type].sum().round(2)"
   ]
  },
  {
   "cell_type": "code",
   "execution_count": 47,
   "metadata": {},
   "outputs": [
    {
     "ename": "NameError",
     "evalue": "name 'total_fares_by_city_type' is not defined",
     "output_type": "error",
     "traceback": [
      "\u001b[0;31m---------------------------------------------------------------------------\u001b[0m",
      "\u001b[0;31mNameError\u001b[0m                                 Traceback (most recent call last)",
      "\u001b[0;32m<ipython-input-47-6b94505e4ded>\u001b[0m in \u001b[0;36m<module>\u001b[0;34m\u001b[0m\n\u001b[0;32m----> 1\u001b[0;31m \u001b[0mtotal_fares_by_city_type\u001b[0m\u001b[0;34m\u001b[0m\u001b[0m\n\u001b[0m",
      "\u001b[0;31mNameError\u001b[0m: name 'total_fares_by_city_type' is not defined"
     ]
    }
   ],
   "source": [
    "total_fares_by_city_type"
   ]
  },
  {
   "cell_type": "code",
   "execution_count": 48,
   "metadata": {},
   "outputs": [],
   "source": [
    "labels = ['Urban', 'Suburban', 'Rural']\n"
   ]
  },
  {
   "cell_type": "code",
   "execution_count": null,
   "metadata": {},
   "outputs": [],
   "source": []
  },
  {
   "cell_type": "code",
   "execution_count": null,
   "metadata": {},
   "outputs": [],
   "source": []
  },
  {
   "cell_type": "code",
   "execution_count": null,
   "metadata": {},
   "outputs": [],
   "source": []
  },
  {
   "cell_type": "code",
   "execution_count": null,
   "metadata": {},
   "outputs": [],
   "source": []
  },
  {
   "cell_type": "code",
   "execution_count": 49,
   "metadata": {},
   "outputs": [],
   "source": [
    "# Show Figure\n",
    "plt.show()"
   ]
  },
  {
   "cell_type": "code",
   "execution_count": null,
   "metadata": {},
   "outputs": [],
   "source": []
  },
  {
   "cell_type": "code",
   "execution_count": null,
   "metadata": {},
   "outputs": [],
   "source": []
  },
  {
   "cell_type": "code",
   "execution_count": null,
   "metadata": {},
   "outputs": [],
   "source": []
  },
  {
   "cell_type": "code",
   "execution_count": null,
   "metadata": {},
   "outputs": [],
   "source": []
  },
  {
   "cell_type": "code",
   "execution_count": null,
   "metadata": {},
   "outputs": [],
   "source": []
  },
  {
   "cell_type": "code",
   "execution_count": null,
   "metadata": {},
   "outputs": [],
   "source": []
  },
  {
   "cell_type": "code",
   "execution_count": 133,
   "metadata": {},
   "outputs": [
    {
     "data": {
      "text/plain": [
       "<pandas.core.groupby.groupby.DataFrameGroupBy object at 0x7f8a0b1beef0>"
      ]
     },
     "execution_count": 133,
     "metadata": {},
     "output_type": "execute_result"
    }
   ],
   "source": [
    "cities_type"
   ]
  },
  {
   "cell_type": "code",
   "execution_count": 141,
   "metadata": {},
   "outputs": [
    {
     "data": {
      "text/html": [
       "<div>\n",
       "<style scoped>\n",
       "    .dataframe tbody tr th:only-of-type {\n",
       "        vertical-align: middle;\n",
       "    }\n",
       "\n",
       "    .dataframe tbody tr th {\n",
       "        vertical-align: top;\n",
       "    }\n",
       "\n",
       "    .dataframe thead th {\n",
       "        text-align: right;\n",
       "    }\n",
       "</style>\n",
       "<table border=\"1\" class=\"dataframe\">\n",
       "  <thead>\n",
       "    <tr style=\"text-align: right;\">\n",
       "      <th></th>\n",
       "      <th>fare</th>\n",
       "      <th>ride_id</th>\n",
       "      <th>driver_count</th>\n",
       "    </tr>\n",
       "    <tr>\n",
       "      <th>city</th>\n",
       "      <th></th>\n",
       "      <th></th>\n",
       "      <th></th>\n",
       "    </tr>\n",
       "  </thead>\n",
       "  <tbody>\n",
       "    <tr>\n",
       "      <th>Amandaburgh</th>\n",
       "      <td>443.55</td>\n",
       "      <td>96468054851003</td>\n",
       "      <td>216</td>\n",
       "    </tr>\n",
       "    <tr>\n",
       "      <th>Barajasview</th>\n",
       "      <td>557.31</td>\n",
       "      <td>102893297406279</td>\n",
       "      <td>572</td>\n",
       "    </tr>\n",
       "    <tr>\n",
       "      <th>Barronchester</th>\n",
       "      <td>582.76</td>\n",
       "      <td>71372735666520</td>\n",
       "      <td>176</td>\n",
       "    </tr>\n",
       "    <tr>\n",
       "      <th>Bethanyland</th>\n",
       "      <td>593.21</td>\n",
       "      <td>105165903035418</td>\n",
       "      <td>396</td>\n",
       "    </tr>\n",
       "    <tr>\n",
       "      <th>Bradshawfurt</th>\n",
       "      <td>400.64</td>\n",
       "      <td>37352940220451</td>\n",
       "      <td>70</td>\n",
       "    </tr>\n",
       "  </tbody>\n",
       "</table>\n",
       "</div>"
      ],
      "text/plain": [
       "                 fare          ride_id  driver_count\n",
       "city                                                \n",
       "Amandaburgh    443.55   96468054851003           216\n",
       "Barajasview    557.31  102893297406279           572\n",
       "Barronchester  582.76   71372735666520           176\n",
       "Bethanyland    593.21  105165903035418           396\n",
       "Bradshawfurt   400.64   37352940220451            70"
      ]
     },
     "execution_count": 141,
     "metadata": {},
     "output_type": "execute_result"
    }
   ],
   "source": [
    "cities.sum().head()"
   ]
  },
  {
   "cell_type": "code",
   "execution_count": 144,
   "metadata": {},
   "outputs": [
    {
     "data": {
      "text/plain": [
       "city\n",
       "Amandaburgh      24.641667\n",
       "Barajasview      25.332273\n",
       "Barronchester    36.422500\n",
       "Name: fare, dtype: float64"
      ]
     },
     "execution_count": 144,
     "metadata": {},
     "output_type": "execute_result"
    }
   ],
   "source": [
    "cities.mean()\n",
    "cities['fare'].mean().head(3)"
   ]
  },
  {
   "cell_type": "code",
   "execution_count": null,
   "metadata": {},
   "outputs": [],
   "source": [
    "cities['fare'].mean().head(3)"
   ]
  },
  {
   "cell_type": "code",
   "execution_count": 184,
   "metadata": {},
   "outputs": [
    {
     "data": {
      "text/plain": [
       "<pandas.core.groupby.groupby.SeriesGroupBy object at 0x7f8a0b68e6d8>"
      ]
     },
     "execution_count": 184,
     "metadata": {},
     "output_type": "execute_result"
    }
   ],
   "source": [
    "cities['type']"
   ]
  },
  {
   "cell_type": "code",
   "execution_count": 170,
   "metadata": {},
   "outputs": [
    {
     "data": {
      "text/plain": [
       "[2, 4, 6]"
      ]
     },
     "execution_count": 170,
     "metadata": {},
     "output_type": "execute_result"
    }
   ],
   "source": [
    "mylist = [1,2,3]\n",
    "jj = [x+x for x in mylist]\n",
    "jj"
   ]
  },
  {
   "cell_type": "code",
   "execution_count": null,
   "metadata": {},
   "outputs": [],
   "source": []
  },
  {
   "cell_type": "code",
   "execution_count": 183,
   "metadata": {},
   "outputs": [
    {
     "ename": "ValueError",
     "evalue": "The truth value of a Series is ambiguous. Use a.empty, a.bool(), a.item(), a.any() or a.all().",
     "output_type": "error",
     "traceback": [
      "\u001b[0;31m---------------------------------------------------------------------------\u001b[0m",
      "\u001b[0;31mValueError\u001b[0m                                Traceback (most recent call last)",
      "\u001b[0;32m<ipython-input-183-ad1edbbbf5bf>\u001b[0m in \u001b[0;36m<module>\u001b[0;34m()\u001b[0m\n\u001b[1;32m      1\u001b[0m \u001b[0;32mfor\u001b[0m \u001b[0mtype\u001b[0m \u001b[0;32min\u001b[0m \u001b[0mcities\u001b[0m\u001b[0;34m[\u001b[0m\u001b[0;34m'type'\u001b[0m\u001b[0;34m]\u001b[0m\u001b[0;34m:\u001b[0m\u001b[0;34m\u001b[0m\u001b[0m\n\u001b[0;32m----> 2\u001b[0;31m     \u001b[0;32mif\u001b[0m \u001b[0mtype\u001b[0m\u001b[0;34m[\u001b[0m\u001b[0;36m1\u001b[0m\u001b[0;34m]\u001b[0m \u001b[0;34m==\u001b[0m \u001b[0;34m'Urban'\u001b[0m\u001b[0;34m:\u001b[0m\u001b[0;34m\u001b[0m\u001b[0m\n\u001b[0m\u001b[1;32m      3\u001b[0m         \u001b[0mcolor\u001b[0m \u001b[0;34m=\u001b[0m \u001b[0;34m'gold'\u001b[0m\u001b[0;34m\u001b[0m\u001b[0m\n\u001b[1;32m      4\u001b[0m         \u001b[0mprint\u001b[0m\u001b[0;34m(\u001b[0m\u001b[0mcolor\u001b[0m\u001b[0;34m)\u001b[0m\u001b[0;34m\u001b[0m\u001b[0m\n\u001b[1;32m      5\u001b[0m     \u001b[0;32melse\u001b[0m\u001b[0;34m:\u001b[0m\u001b[0;34m\u001b[0m\u001b[0m\n",
      "\u001b[0;32m/user/bin/anaconda3/lib/python3.6/site-packages/pandas/core/generic.py\u001b[0m in \u001b[0;36m__nonzero__\u001b[0;34m(self)\u001b[0m\n\u001b[1;32m   1571\u001b[0m         raise ValueError(\"The truth value of a {0} is ambiguous. \"\n\u001b[1;32m   1572\u001b[0m                          \u001b[0;34m\"Use a.empty, a.bool(), a.item(), a.any() or a.all().\"\u001b[0m\u001b[0;34m\u001b[0m\u001b[0m\n\u001b[0;32m-> 1573\u001b[0;31m                          .format(self.__class__.__name__))\n\u001b[0m\u001b[1;32m   1574\u001b[0m \u001b[0;34m\u001b[0m\u001b[0m\n\u001b[1;32m   1575\u001b[0m     \u001b[0m__bool__\u001b[0m \u001b[0;34m=\u001b[0m \u001b[0m__nonzero__\u001b[0m\u001b[0;34m\u001b[0m\u001b[0m\n",
      "\u001b[0;31mValueError\u001b[0m: The truth value of a Series is ambiguous. Use a.empty, a.bool(), a.item(), a.any() or a.all()."
     ]
    }
   ],
   "source": [
    "for type in cities['type']:\n",
    "    if type[1] == 'Urban':\n",
    "        color = 'gold'\n",
    "        print(color)\n",
    "    else:\n",
    "        print(type)\n",
    "    break"
   ]
  },
  {
   "cell_type": "code",
   "execution_count": 76,
   "metadata": {},
   "outputs": [
    {
     "data": {
      "text/html": [
       "<div>\n",
       "<style scoped>\n",
       "    .dataframe tbody tr th:only-of-type {\n",
       "        vertical-align: middle;\n",
       "    }\n",
       "\n",
       "    .dataframe tbody tr th {\n",
       "        vertical-align: top;\n",
       "    }\n",
       "\n",
       "    .dataframe thead th {\n",
       "        text-align: right;\n",
       "    }\n",
       "</style>\n",
       "<table border=\"1\" class=\"dataframe\">\n",
       "  <thead>\n",
       "    <tr style=\"text-align: right;\">\n",
       "      <th></th>\n",
       "      <th>city</th>\n",
       "      <th>date</th>\n",
       "      <th>fare</th>\n",
       "      <th>ride_id</th>\n",
       "      <th>driver_count</th>\n",
       "      <th>type</th>\n",
       "    </tr>\n",
       "  </thead>\n",
       "  <tbody>\n",
       "    <tr>\n",
       "      <th>2293</th>\n",
       "      <td>Garzaport</td>\n",
       "      <td>2018-02-18 18:27:48</td>\n",
       "      <td>36.16</td>\n",
       "      <td>2928337561347</td>\n",
       "      <td>7</td>\n",
       "      <td>Rural</td>\n",
       "    </tr>\n",
       "    <tr>\n",
       "      <th>2294</th>\n",
       "      <td>Garzaport</td>\n",
       "      <td>2018-04-17 01:48:27</td>\n",
       "      <td>17.31</td>\n",
       "      <td>6092414045061</td>\n",
       "      <td>7</td>\n",
       "      <td>Rural</td>\n",
       "    </tr>\n",
       "    <tr>\n",
       "      <th>2295</th>\n",
       "      <td>Garzaport</td>\n",
       "      <td>2018-05-06 16:57:16</td>\n",
       "      <td>18.90</td>\n",
       "      <td>8826696981094</td>\n",
       "      <td>7</td>\n",
       "      <td>Rural</td>\n",
       "    </tr>\n",
       "  </tbody>\n",
       "</table>\n",
       "</div>"
      ],
      "text/plain": [
       "           city                 date   fare        ride_id  driver_count  \\\n",
       "2293  Garzaport  2018-02-18 18:27:48  36.16  2928337561347             7   \n",
       "2294  Garzaport  2018-04-17 01:48:27  17.31  6092414045061             7   \n",
       "2295  Garzaport  2018-05-06 16:57:16  18.90  8826696981094             7   \n",
       "\n",
       "       type  \n",
       "2293  Rural  \n",
       "2294  Rural  \n",
       "2295  Rural  "
      ]
     },
     "execution_count": 76,
     "metadata": {},
     "output_type": "execute_result"
    }
   ],
   "source": [
    "cities.get_group('Garzaport')"
   ]
  },
  {
   "cell_type": "code",
   "execution_count": 77,
   "metadata": {},
   "outputs": [
    {
     "data": {
      "text/plain": [
       "24.123333333333335"
      ]
     },
     "execution_count": 77,
     "metadata": {},
     "output_type": "execute_result"
    }
   ],
   "source": [
    "cities.get_group('Garzaport')['fare'].mean()"
   ]
  },
  {
   "cell_type": "code",
   "execution_count": 91,
   "metadata": {},
   "outputs": [
    {
     "data": {
      "text/plain": [
       "72.37"
      ]
     },
     "execution_count": 91,
     "metadata": {},
     "output_type": "execute_result"
    }
   ],
   "source": [
    "cities.get_group('Garzaport')['fare'].sum()\n",
    "#Garzaport                 72.37"
   ]
  },
  {
   "cell_type": "code",
   "execution_count": 70,
   "metadata": {},
   "outputs": [
    {
     "data": {
      "text/plain": [
       "24.64"
      ]
     },
     "execution_count": 70,
     "metadata": {},
     "output_type": "execute_result"
    }
   ],
   "source": [
    "round(cities.get_group('Amandaburgh')['fare'].mean(),2)"
   ]
  },
  {
   "cell_type": "code",
   "execution_count": 72,
   "metadata": {
    "collapsed": true
   },
   "outputs": [
    {
     "data": {
      "text/html": [
       "<div>\n",
       "<style scoped>\n",
       "    .dataframe tbody tr th:only-of-type {\n",
       "        vertical-align: middle;\n",
       "    }\n",
       "\n",
       "    .dataframe tbody tr th {\n",
       "        vertical-align: top;\n",
       "    }\n",
       "\n",
       "    .dataframe thead th {\n",
       "        text-align: right;\n",
       "    }\n",
       "</style>\n",
       "<table border=\"1\" class=\"dataframe\">\n",
       "  <thead>\n",
       "    <tr style=\"text-align: right;\">\n",
       "      <th></th>\n",
       "      <th>fare</th>\n",
       "      <th>ride_id</th>\n",
       "      <th>driver_count</th>\n",
       "    </tr>\n",
       "    <tr>\n",
       "      <th>city</th>\n",
       "      <th></th>\n",
       "      <th></th>\n",
       "      <th></th>\n",
       "    </tr>\n",
       "  </thead>\n",
       "  <tbody>\n",
       "    <tr>\n",
       "      <th>Amandaburgh</th>\n",
       "      <td>24.64</td>\n",
       "      <td>5.359336e+12</td>\n",
       "      <td>12.0</td>\n",
       "    </tr>\n",
       "    <tr>\n",
       "      <th>Barajasview</th>\n",
       "      <td>25.33</td>\n",
       "      <td>4.676968e+12</td>\n",
       "      <td>26.0</td>\n",
       "    </tr>\n",
       "    <tr>\n",
       "      <th>Barronchester</th>\n",
       "      <td>36.42</td>\n",
       "      <td>4.460796e+12</td>\n",
       "      <td>11.0</td>\n",
       "    </tr>\n",
       "    <tr>\n",
       "      <th>Bethanyland</th>\n",
       "      <td>32.96</td>\n",
       "      <td>5.842550e+12</td>\n",
       "      <td>22.0</td>\n",
       "    </tr>\n",
       "    <tr>\n",
       "      <th>Bradshawfurt</th>\n",
       "      <td>40.06</td>\n",
       "      <td>3.735294e+12</td>\n",
       "      <td>7.0</td>\n",
       "    </tr>\n",
       "    <tr>\n",
       "      <th>Brandonfort</th>\n",
       "      <td>35.44</td>\n",
       "      <td>5.429539e+12</td>\n",
       "      <td>10.0</td>\n",
       "    </tr>\n",
       "    <tr>\n",
       "      <th>Carriemouth</th>\n",
       "      <td>28.31</td>\n",
       "      <td>5.184855e+12</td>\n",
       "      <td>52.0</td>\n",
       "    </tr>\n",
       "    <tr>\n",
       "      <th>Christopherfurt</th>\n",
       "      <td>24.50</td>\n",
       "      <td>4.582307e+12</td>\n",
       "      <td>41.0</td>\n",
       "    </tr>\n",
       "    <tr>\n",
       "      <th>Colemanland</th>\n",
       "      <td>30.89</td>\n",
       "      <td>5.155714e+12</td>\n",
       "      <td>23.0</td>\n",
       "    </tr>\n",
       "    <tr>\n",
       "      <th>Davidfurt</th>\n",
       "      <td>32.00</td>\n",
       "      <td>4.575051e+12</td>\n",
       "      <td>23.0</td>\n",
       "    </tr>\n",
       "    <tr>\n",
       "      <th>Deanville</th>\n",
       "      <td>25.84</td>\n",
       "      <td>4.901508e+12</td>\n",
       "      <td>49.0</td>\n",
       "    </tr>\n",
       "    <tr>\n",
       "      <th>East Aaronbury</th>\n",
       "      <td>25.66</td>\n",
       "      <td>6.320489e+12</td>\n",
       "      <td>7.0</td>\n",
       "    </tr>\n",
       "    <tr>\n",
       "      <th>East Danielview</th>\n",
       "      <td>31.56</td>\n",
       "      <td>3.845422e+12</td>\n",
       "      <td>22.0</td>\n",
       "    </tr>\n",
       "    <tr>\n",
       "      <th>East Kaylahaven</th>\n",
       "      <td>23.76</td>\n",
       "      <td>4.624814e+12</td>\n",
       "      <td>65.0</td>\n",
       "    </tr>\n",
       "    <tr>\n",
       "      <th>East Kentstad</th>\n",
       "      <td>29.82</td>\n",
       "      <td>4.482674e+12</td>\n",
       "      <td>20.0</td>\n",
       "    </tr>\n",
       "    <tr>\n",
       "      <th>East Marymouth</th>\n",
       "      <td>30.84</td>\n",
       "      <td>5.950071e+12</td>\n",
       "      <td>5.0</td>\n",
       "    </tr>\n",
       "    <tr>\n",
       "      <th>Erikaland</th>\n",
       "      <td>24.91</td>\n",
       "      <td>4.483433e+12</td>\n",
       "      <td>37.0</td>\n",
       "    </tr>\n",
       "    <tr>\n",
       "      <th>Garzaport</th>\n",
       "      <td>24.12</td>\n",
       "      <td>5.949150e+12</td>\n",
       "      <td>7.0</td>\n",
       "    </tr>\n",
       "    <tr>\n",
       "      <th>Grahamburgh</th>\n",
       "      <td>25.22</td>\n",
       "      <td>4.162242e+12</td>\n",
       "      <td>61.0</td>\n",
       "    </tr>\n",
       "    <tr>\n",
       "      <th>Grayville</th>\n",
       "      <td>27.76</td>\n",
       "      <td>5.661291e+12</td>\n",
       "      <td>2.0</td>\n",
       "    </tr>\n",
       "    <tr>\n",
       "      <th>Harringtonfort</th>\n",
       "      <td>33.47</td>\n",
       "      <td>5.726406e+12</td>\n",
       "      <td>4.0</td>\n",
       "    </tr>\n",
       "    <tr>\n",
       "      <th>Huntermouth</th>\n",
       "      <td>28.99</td>\n",
       "      <td>4.280488e+12</td>\n",
       "      <td>37.0</td>\n",
       "    </tr>\n",
       "    <tr>\n",
       "      <th>Hurleymouth</th>\n",
       "      <td>25.89</td>\n",
       "      <td>5.650851e+12</td>\n",
       "      <td>36.0</td>\n",
       "    </tr>\n",
       "    <tr>\n",
       "      <th>Jerryton</th>\n",
       "      <td>25.65</td>\n",
       "      <td>4.955272e+12</td>\n",
       "      <td>64.0</td>\n",
       "    </tr>\n",
       "    <tr>\n",
       "      <th>Jessicaport</th>\n",
       "      <td>36.01</td>\n",
       "      <td>3.622801e+12</td>\n",
       "      <td>1.0</td>\n",
       "    </tr>\n",
       "    <tr>\n",
       "      <th>Johnton</th>\n",
       "      <td>26.79</td>\n",
       "      <td>5.294555e+12</td>\n",
       "      <td>27.0</td>\n",
       "    </tr>\n",
       "    <tr>\n",
       "      <th>Joneschester</th>\n",
       "      <td>22.29</td>\n",
       "      <td>4.271941e+12</td>\n",
       "      <td>39.0</td>\n",
       "    </tr>\n",
       "    <tr>\n",
       "      <th>Josephside</th>\n",
       "      <td>32.86</td>\n",
       "      <td>4.479472e+12</td>\n",
       "      <td>25.0</td>\n",
       "    </tr>\n",
       "    <tr>\n",
       "      <th>Justinberg</th>\n",
       "      <td>23.69</td>\n",
       "      <td>4.338578e+12</td>\n",
       "      <td>39.0</td>\n",
       "    </tr>\n",
       "    <tr>\n",
       "      <th>Karenberg</th>\n",
       "      <td>26.34</td>\n",
       "      <td>5.685962e+12</td>\n",
       "      <td>22.0</td>\n",
       "    </tr>\n",
       "    <tr>\n",
       "      <th>...</th>\n",
       "      <td>...</td>\n",
       "      <td>...</td>\n",
       "      <td>...</td>\n",
       "    </tr>\n",
       "    <tr>\n",
       "      <th>South Evanton</th>\n",
       "      <td>26.73</td>\n",
       "      <td>5.025553e+12</td>\n",
       "      <td>11.0</td>\n",
       "    </tr>\n",
       "    <tr>\n",
       "      <th>South Jack</th>\n",
       "      <td>22.97</td>\n",
       "      <td>4.892221e+12</td>\n",
       "      <td>46.0</td>\n",
       "    </tr>\n",
       "    <tr>\n",
       "      <th>South Jennifer</th>\n",
       "      <td>35.26</td>\n",
       "      <td>4.956215e+12</td>\n",
       "      <td>7.0</td>\n",
       "    </tr>\n",
       "    <tr>\n",
       "      <th>South Karenland</th>\n",
       "      <td>26.54</td>\n",
       "      <td>5.067028e+12</td>\n",
       "      <td>4.0</td>\n",
       "    </tr>\n",
       "    <tr>\n",
       "      <th>South Latoya</th>\n",
       "      <td>20.09</td>\n",
       "      <td>4.387006e+12</td>\n",
       "      <td>10.0</td>\n",
       "    </tr>\n",
       "    <tr>\n",
       "      <th>South Marychester</th>\n",
       "      <td>41.87</td>\n",
       "      <td>3.498697e+12</td>\n",
       "      <td>1.0</td>\n",
       "    </tr>\n",
       "    <tr>\n",
       "      <th>South Michelleport</th>\n",
       "      <td>24.45</td>\n",
       "      <td>4.727560e+12</td>\n",
       "      <td>72.0</td>\n",
       "    </tr>\n",
       "    <tr>\n",
       "      <th>South Phillip</th>\n",
       "      <td>28.57</td>\n",
       "      <td>5.247892e+12</td>\n",
       "      <td>38.0</td>\n",
       "    </tr>\n",
       "    <tr>\n",
       "      <th>South Saramouth</th>\n",
       "      <td>36.16</td>\n",
       "      <td>3.997991e+12</td>\n",
       "      <td>7.0</td>\n",
       "    </tr>\n",
       "    <tr>\n",
       "      <th>South Teresa</th>\n",
       "      <td>31.22</td>\n",
       "      <td>5.522500e+12</td>\n",
       "      <td>21.0</td>\n",
       "    </tr>\n",
       "    <tr>\n",
       "      <th>Taylorhaven</th>\n",
       "      <td>42.26</td>\n",
       "      <td>6.493622e+12</td>\n",
       "      <td>1.0</td>\n",
       "    </tr>\n",
       "    <tr>\n",
       "      <th>Valentineton</th>\n",
       "      <td>24.64</td>\n",
       "      <td>5.051062e+12</td>\n",
       "      <td>45.0</td>\n",
       "    </tr>\n",
       "    <tr>\n",
       "      <th>Veronicaberg</th>\n",
       "      <td>32.83</td>\n",
       "      <td>5.124262e+12</td>\n",
       "      <td>20.0</td>\n",
       "    </tr>\n",
       "    <tr>\n",
       "      <th>Victoriaport</th>\n",
       "      <td>27.78</td>\n",
       "      <td>4.875376e+12</td>\n",
       "      <td>16.0</td>\n",
       "    </tr>\n",
       "    <tr>\n",
       "      <th>West Angela</th>\n",
       "      <td>25.99</td>\n",
       "      <td>4.842164e+12</td>\n",
       "      <td>48.0</td>\n",
       "    </tr>\n",
       "    <tr>\n",
       "      <th>West Anthony</th>\n",
       "      <td>24.74</td>\n",
       "      <td>4.694461e+12</td>\n",
       "      <td>70.0</td>\n",
       "    </tr>\n",
       "    <tr>\n",
       "      <th>West Christopherberg</th>\n",
       "      <td>24.42</td>\n",
       "      <td>4.637528e+12</td>\n",
       "      <td>32.0</td>\n",
       "    </tr>\n",
       "    <tr>\n",
       "      <th>West Ericstad</th>\n",
       "      <td>22.35</td>\n",
       "      <td>5.101687e+12</td>\n",
       "      <td>25.0</td>\n",
       "    </tr>\n",
       "    <tr>\n",
       "      <th>West Gabriel</th>\n",
       "      <td>20.35</td>\n",
       "      <td>5.573151e+12</td>\n",
       "      <td>57.0</td>\n",
       "    </tr>\n",
       "    <tr>\n",
       "      <th>West Hannah</th>\n",
       "      <td>29.55</td>\n",
       "      <td>4.611125e+12</td>\n",
       "      <td>12.0</td>\n",
       "    </tr>\n",
       "    <tr>\n",
       "      <th>West Heather</th>\n",
       "      <td>33.89</td>\n",
       "      <td>5.237415e+12</td>\n",
       "      <td>4.0</td>\n",
       "    </tr>\n",
       "    <tr>\n",
       "      <th>West Heidi</th>\n",
       "      <td>23.13</td>\n",
       "      <td>5.141304e+12</td>\n",
       "      <td>28.0</td>\n",
       "    </tr>\n",
       "    <tr>\n",
       "      <th>West Josephberg</th>\n",
       "      <td>21.72</td>\n",
       "      <td>4.560076e+12</td>\n",
       "      <td>45.0</td>\n",
       "    </tr>\n",
       "    <tr>\n",
       "      <th>West Kimmouth</th>\n",
       "      <td>29.87</td>\n",
       "      <td>4.965593e+12</td>\n",
       "      <td>4.0</td>\n",
       "    </tr>\n",
       "    <tr>\n",
       "      <th>West Patrickchester</th>\n",
       "      <td>28.23</td>\n",
       "      <td>5.302508e+12</td>\n",
       "      <td>25.0</td>\n",
       "    </tr>\n",
       "    <tr>\n",
       "      <th>West Robert</th>\n",
       "      <td>25.12</td>\n",
       "      <td>4.575476e+12</td>\n",
       "      <td>39.0</td>\n",
       "    </tr>\n",
       "    <tr>\n",
       "      <th>West Samuelburgh</th>\n",
       "      <td>21.77</td>\n",
       "      <td>4.566740e+12</td>\n",
       "      <td>73.0</td>\n",
       "    </tr>\n",
       "    <tr>\n",
       "      <th>Williamsonville</th>\n",
       "      <td>31.87</td>\n",
       "      <td>5.079952e+12</td>\n",
       "      <td>2.0</td>\n",
       "    </tr>\n",
       "    <tr>\n",
       "      <th>Williamsstad</th>\n",
       "      <td>24.36</td>\n",
       "      <td>4.316939e+12</td>\n",
       "      <td>59.0</td>\n",
       "    </tr>\n",
       "    <tr>\n",
       "      <th>Williamsview</th>\n",
       "      <td>26.60</td>\n",
       "      <td>4.537662e+12</td>\n",
       "      <td>46.0</td>\n",
       "    </tr>\n",
       "  </tbody>\n",
       "</table>\n",
       "<p>120 rows × 3 columns</p>\n",
       "</div>"
      ],
      "text/plain": [
       "                       fare       ride_id  driver_count\n",
       "city                                                   \n",
       "Amandaburgh           24.64  5.359336e+12          12.0\n",
       "Barajasview           25.33  4.676968e+12          26.0\n",
       "Barronchester         36.42  4.460796e+12          11.0\n",
       "Bethanyland           32.96  5.842550e+12          22.0\n",
       "Bradshawfurt          40.06  3.735294e+12           7.0\n",
       "Brandonfort           35.44  5.429539e+12          10.0\n",
       "Carriemouth           28.31  5.184855e+12          52.0\n",
       "Christopherfurt       24.50  4.582307e+12          41.0\n",
       "Colemanland           30.89  5.155714e+12          23.0\n",
       "Davidfurt             32.00  4.575051e+12          23.0\n",
       "Deanville             25.84  4.901508e+12          49.0\n",
       "East Aaronbury        25.66  6.320489e+12           7.0\n",
       "East Danielview       31.56  3.845422e+12          22.0\n",
       "East Kaylahaven       23.76  4.624814e+12          65.0\n",
       "East Kentstad         29.82  4.482674e+12          20.0\n",
       "East Marymouth        30.84  5.950071e+12           5.0\n",
       "Erikaland             24.91  4.483433e+12          37.0\n",
       "Garzaport             24.12  5.949150e+12           7.0\n",
       "Grahamburgh           25.22  4.162242e+12          61.0\n",
       "Grayville             27.76  5.661291e+12           2.0\n",
       "Harringtonfort        33.47  5.726406e+12           4.0\n",
       "Huntermouth           28.99  4.280488e+12          37.0\n",
       "Hurleymouth           25.89  5.650851e+12          36.0\n",
       "Jerryton              25.65  4.955272e+12          64.0\n",
       "Jessicaport           36.01  3.622801e+12           1.0\n",
       "Johnton               26.79  5.294555e+12          27.0\n",
       "Joneschester          22.29  4.271941e+12          39.0\n",
       "Josephside            32.86  4.479472e+12          25.0\n",
       "Justinberg            23.69  4.338578e+12          39.0\n",
       "Karenberg             26.34  5.685962e+12          22.0\n",
       "...                     ...           ...           ...\n",
       "South Evanton         26.73  5.025553e+12          11.0\n",
       "South Jack            22.97  4.892221e+12          46.0\n",
       "South Jennifer        35.26  4.956215e+12           7.0\n",
       "South Karenland       26.54  5.067028e+12           4.0\n",
       "South Latoya          20.09  4.387006e+12          10.0\n",
       "South Marychester     41.87  3.498697e+12           1.0\n",
       "South Michelleport    24.45  4.727560e+12          72.0\n",
       "South Phillip         28.57  5.247892e+12          38.0\n",
       "South Saramouth       36.16  3.997991e+12           7.0\n",
       "South Teresa          31.22  5.522500e+12          21.0\n",
       "Taylorhaven           42.26  6.493622e+12           1.0\n",
       "Valentineton          24.64  5.051062e+12          45.0\n",
       "Veronicaberg          32.83  5.124262e+12          20.0\n",
       "Victoriaport          27.78  4.875376e+12          16.0\n",
       "West Angela           25.99  4.842164e+12          48.0\n",
       "West Anthony          24.74  4.694461e+12          70.0\n",
       "West Christopherberg  24.42  4.637528e+12          32.0\n",
       "West Ericstad         22.35  5.101687e+12          25.0\n",
       "West Gabriel          20.35  5.573151e+12          57.0\n",
       "West Hannah           29.55  4.611125e+12          12.0\n",
       "West Heather          33.89  5.237415e+12           4.0\n",
       "West Heidi            23.13  5.141304e+12          28.0\n",
       "West Josephberg       21.72  4.560076e+12          45.0\n",
       "West Kimmouth         29.87  4.965593e+12           4.0\n",
       "West Patrickchester   28.23  5.302508e+12          25.0\n",
       "West Robert           25.12  4.575476e+12          39.0\n",
       "West Samuelburgh      21.77  4.566740e+12          73.0\n",
       "Williamsonville       31.87  5.079952e+12           2.0\n",
       "Williamsstad          24.36  4.316939e+12          59.0\n",
       "Williamsview          26.60  4.537662e+12          46.0\n",
       "\n",
       "[120 rows x 3 columns]"
      ]
     },
     "execution_count": 72,
     "metadata": {},
     "output_type": "execute_result"
    }
   ],
   "source": [
    "cities.mean().round(2)"
   ]
  },
  {
   "cell_type": "code",
   "execution_count": null,
   "metadata": {},
   "outputs": [],
   "source": []
  },
  {
   "cell_type": "code",
   "execution_count": null,
   "metadata": {},
   "outputs": [],
   "source": []
  },
  {
   "cell_type": "code",
   "execution_count": null,
   "metadata": {},
   "outputs": [],
   "source": []
  },
  {
   "cell_type": "code",
   "execution_count": null,
   "metadata": {},
   "outputs": [],
   "source": []
  },
  {
   "cell_type": "code",
   "execution_count": null,
   "metadata": {},
   "outputs": [],
   "source": []
  },
  {
   "cell_type": "code",
   "execution_count": null,
   "metadata": {},
   "outputs": [],
   "source": []
  },
  {
   "cell_type": "code",
   "execution_count": null,
   "metadata": {},
   "outputs": [],
   "source": []
  },
  {
   "cell_type": "code",
   "execution_count": null,
   "metadata": {},
   "outputs": [],
   "source": []
  },
  {
   "cell_type": "code",
   "execution_count": null,
   "metadata": {},
   "outputs": [],
   "source": []
  },
  {
   "cell_type": "code",
   "execution_count": null,
   "metadata": {},
   "outputs": [],
   "source": []
  },
  {
   "cell_type": "code",
   "execution_count": null,
   "metadata": {},
   "outputs": [],
   "source": []
  },
  {
   "cell_type": "code",
   "execution_count": null,
   "metadata": {},
   "outputs": [],
   "source": []
  },
  {
   "cell_type": "code",
   "execution_count": null,
   "metadata": {},
   "outputs": [],
   "source": []
  },
  {
   "cell_type": "code",
   "execution_count": null,
   "metadata": {},
   "outputs": [],
   "source": []
  },
  {
   "cell_type": "code",
   "execution_count": 23,
   "metadata": {},
   "outputs": [
    {
     "data": {
      "text/html": [
       "<div>\n",
       "<style scoped>\n",
       "    .dataframe tbody tr th:only-of-type {\n",
       "        vertical-align: middle;\n",
       "    }\n",
       "\n",
       "    .dataframe tbody tr th {\n",
       "        vertical-align: top;\n",
       "    }\n",
       "\n",
       "    .dataframe thead th {\n",
       "        text-align: right;\n",
       "    }\n",
       "</style>\n",
       "<table border=\"1\" class=\"dataframe\">\n",
       "  <thead>\n",
       "    <tr style=\"text-align: right;\">\n",
       "      <th></th>\n",
       "      <th>city</th>\n",
       "      <th>driver_count</th>\n",
       "      <th>type</th>\n",
       "      <th>date</th>\n",
       "      <th>fare</th>\n",
       "      <th>ride_id</th>\n",
       "    </tr>\n",
       "  </thead>\n",
       "  <tbody>\n",
       "    <tr>\n",
       "      <th>0</th>\n",
       "      <td>Richardfort</td>\n",
       "      <td>38</td>\n",
       "      <td>Urban</td>\n",
       "      <td>2018-02-24 08:40:38</td>\n",
       "      <td>13.93</td>\n",
       "      <td>5628545007794</td>\n",
       "    </tr>\n",
       "    <tr>\n",
       "      <th>1</th>\n",
       "      <td>Richardfort</td>\n",
       "      <td>38</td>\n",
       "      <td>Urban</td>\n",
       "      <td>2018-02-13 12:46:07</td>\n",
       "      <td>14.00</td>\n",
       "      <td>910050116494</td>\n",
       "    </tr>\n",
       "    <tr>\n",
       "      <th>2</th>\n",
       "      <td>Richardfort</td>\n",
       "      <td>38</td>\n",
       "      <td>Urban</td>\n",
       "      <td>2018-02-16 13:52:19</td>\n",
       "      <td>17.92</td>\n",
       "      <td>820639054416</td>\n",
       "    </tr>\n",
       "  </tbody>\n",
       "</table>\n",
       "</div>"
      ],
      "text/plain": [
       "          city  driver_count   type                 date   fare        ride_id\n",
       "0  Richardfort            38  Urban  2018-02-24 08:40:38  13.93  5628545007794\n",
       "1  Richardfort            38  Urban  2018-02-13 12:46:07  14.00   910050116494\n",
       "2  Richardfort            38  Urban  2018-02-16 13:52:19  17.92   820639054416"
      ]
     },
     "execution_count": 23,
     "metadata": {},
     "output_type": "execute_result"
    }
   ],
   "source": [
    "pd.merge(city_data, ride_data, how='inner', on='city').head(3)"
   ]
  },
  {
   "cell_type": "code",
   "execution_count": 4,
   "metadata": {},
   "outputs": [
    {
     "data": {
      "text/html": [
       "<div>\n",
       "<style scoped>\n",
       "    .dataframe tbody tr th:only-of-type {\n",
       "        vertical-align: middle;\n",
       "    }\n",
       "\n",
       "    .dataframe tbody tr th {\n",
       "        vertical-align: top;\n",
       "    }\n",
       "\n",
       "    .dataframe thead th {\n",
       "        text-align: right;\n",
       "    }\n",
       "</style>\n",
       "<table border=\"1\" class=\"dataframe\">\n",
       "  <thead>\n",
       "    <tr style=\"text-align: right;\">\n",
       "      <th></th>\n",
       "      <th>India</th>\n",
       "      <th>China</th>\n",
       "    </tr>\n",
       "    <tr>\n",
       "      <th>Years</th>\n",
       "      <th></th>\n",
       "      <th></th>\n",
       "    </tr>\n",
       "  </thead>\n",
       "  <tbody>\n",
       "    <tr>\n",
       "      <th>1980</th>\n",
       "      <td>8880</td>\n",
       "      <td>5123</td>\n",
       "    </tr>\n",
       "    <tr>\n",
       "      <th>1981</th>\n",
       "      <td>8670</td>\n",
       "      <td>6682</td>\n",
       "    </tr>\n",
       "    <tr>\n",
       "      <th>1982</th>\n",
       "      <td>8147</td>\n",
       "      <td>3308</td>\n",
       "    </tr>\n",
       "    <tr>\n",
       "      <th>1983</th>\n",
       "      <td>7338</td>\n",
       "      <td>1863</td>\n",
       "    </tr>\n",
       "    <tr>\n",
       "      <th>1984</th>\n",
       "      <td>5704</td>\n",
       "      <td>1527</td>\n",
       "    </tr>\n",
       "  </tbody>\n",
       "</table>\n",
       "</div>"
      ],
      "text/plain": [
       "       India  China\n",
       "Years              \n",
       "1980    8880   5123\n",
       "1981    8670   6682\n",
       "1982    8147   3308\n",
       "1983    7338   1863\n",
       "1984    5704   1527"
      ]
     },
     "execution_count": 4,
     "metadata": {},
     "output_type": "execute_result"
    }
   ],
   "source": [
    "india_china_df = pd.DataFrame({'India': [8880,8670,8147,7338,5704],\n",
    "                   'China': [ 5123,6682,3308,1863,1527],\n",
    "                   'Years': [1980,1981,1982,1983,1984]}, index = [1980,1981,1982,1983,1984]).set_index('Years')\n",
    "india_china_df"
   ]
  },
  {
   "cell_type": "code",
   "execution_count": 5,
   "metadata": {},
   "outputs": [
    {
     "data": {
      "text/plain": [
       "<matplotlib.axes._subplots.AxesSubplot at 0x7f8a0f5ff7b8>"
      ]
     },
     "execution_count": 5,
     "metadata": {},
     "output_type": "execute_result"
    },
    {
     "data": {
      "image/png": "[encoded data removed]",
      "text/plain": [
       "<Figure size 432x288 with 1 Axes>"
      ]
     },
     "metadata": {},
     "output_type": "display_data"
    }
   ],
   "source": [
    "india_china_df.plot(kind='line')"
   ]
  },
  {
   "cell_type": "code",
   "execution_count": null,
   "metadata": {},
   "outputs": [],
   "source": []
  },
  {
   "cell_type": "code",
   "execution_count": 49,
   "metadata": {},
   "outputs": [
    {
     "data": {
      "text/plain": [
       "<matplotlib.axes._subplots.AxesSubplot at 0x7f9227d3fe10>"
      ]
     },
     "execution_count": 49,
     "metadata": {},
     "output_type": "execute_result"
    }
   ],
   "source": [
    "india_china_df['India'].plot(kind='hist')"
   ]
  },
  {
   "cell_type": "code",
   "execution_count": null,
   "metadata": {},
   "outputs": [],
   "source": []
  },
  {
   "cell_type": "code",
   "execution_count": null,
   "metadata": {},
   "outputs": [],
   "source": []
  },
  {
   "cell_type": "code",
   "execution_count": 29,
   "metadata": {},
   "outputs": [
    {
     "data": {
      "application/javascript": [
       "/* Put everything inside the global mpl namespace */\n",
       "window.mpl = {};\n",
       "\n",
       "\n",
       "mpl.get_websocket_type = function() {\n",
       "    if (typeof(WebSocket) !== 'undefined') {\n",
       "        return WebSocket;\n",
       "    } else if (typeof(MozWebSocket) !== 'undefined') {\n",
       "        return MozWebSocket;\n",
       "    } else {\n",
       "        alert('Your browser does not have WebSocket support.' +\n",
       "              'Please try Chrome, Safari or Firefox ≥ 6. ' +\n",
       "              'Firefox 4 and 5 are also supported but you ' +\n",
       "              'have to enable WebSockets in about:config.');\n",
       "    };\n",
       "}\n",
       "\n",
       "mpl.figure = function(figure_id, websocket, ondownload, parent_element) {\n",
       "    this.id = figure_id;\n",
       "\n",
       "    this.ws = websocket;\n",
       "\n",
       "    this.supports_binary = (this.ws.binaryType != undefined);\n",
       "\n",
       "    if (!this.supports_binary) {\n",
       "        var warnings = document.getElementById(\"mpl-warnings\");\n",
       "        if (warnings) {\n",
       "            warnings.style.display = 'block';\n",
       "            warnings.textContent = (\n",
       "                \"This browser does not support binary websocket messages. \" +\n",
       "                    \"Performance may be slow.\");\n",
       "        }\n",
       "    }\n",
       "\n",
       "    this.imageObj = new Image();\n",
       "\n",
       "    this.context = undefined;\n",
       "    this.message = undefined;\n",
       "    this.canvas = undefined;\n",
       "    this.rubberband_canvas = undefined;\n",
       "    this.rubberband_context = undefined;\n",
       "    this.format_dropdown = undefined;\n",
       "\n",
       "    this.image_mode = 'full';\n",
       "\n",
       "    this.root = $('<div/>');\n",
       "    this._root_extra_style(this.root)\n",
       "    this.root.attr('style', 'display: inline-block');\n",
       "\n",
       "    $(parent_element).append(this.root);\n",
       "\n",
       "    this._init_header(this);\n",
       "    this._init_canvas(this);\n",
       "    this._init_toolbar(this);\n",
       "\n",
       "    var fig = this;\n",
       "\n",
       "    this.waiting = false;\n",
       "\n",
       "    this.ws.onopen =  function () {\n",
       "            fig.send_message(\"supports_binary\", {value: fig.supports_binary});\n",
       "            fig.send_message(\"send_image_mode\", {});\n",
       "            if (mpl.ratio != 1) {\n",
       "                fig.send_message(\"set_dpi_ratio\", {'dpi_ratio': mpl.ratio});\n",
       "            }\n",
       "            fig.send_message(\"refresh\", {});\n",
       "        }\n",
       "\n",
       "    this.imageObj.onload = function() {\n",
       "            if (fig.image_mode == 'full') {\n",
       "                // Full images could contain transparency (where diff images\n",
       "                // almost always do), so we need to clear the canvas so that\n",
       "                // there is no ghosting.\n",
       "                fig.context.clearRect(0, 0, fig.canvas.width, fig.canvas.height);\n",
       "            }\n",
       "            fig.context.drawImage(fig.imageObj, 0, 0);\n",
       "        };\n",
       "\n",
       "    this.imageObj.onunload = function() {\n",
       "        fig.ws.close();\n",
       "    }\n",
       "\n",
       "    this.ws.onmessage = this._make_on_message_function(this);\n",
       "\n",
       "    this.ondownload = ondownload;\n",
       "}\n",
       "\n",
       "mpl.figure.prototype._init_header = function() {\n",
       "    var titlebar = $(\n",
       "        '<div class=\"ui-dialog-titlebar ui-widget-header ui-corner-all ' +\n",
       "        'ui-helper-clearfix\"/>');\n",
       "    var titletext = $(\n",
       "        '<div class=\"ui-dialog-title\" style=\"width: 100%; ' +\n",
       "        'text-align: center; padding: 3px;\"/>');\n",
       "    titlebar.append(titletext)\n",
       "    this.root.append(titlebar);\n",
       "    this.header = titletext[0];\n",
       "}\n",
       "\n",
       "\n",
       "\n",
       "mpl.figure.prototype._canvas_extra_style = function(canvas_div) {\n",
       "\n",
       "}\n",
       "\n",
       "\n",
       "mpl.figure.prototype._root_extra_style = function(canvas_div) {\n",
       "\n",
       "}\n",
       "\n",
       "mpl.figure.prototype._init_canvas = function() {\n",
       "    var fig = this;\n",
       "\n",
       "    var canvas_div = $('<div/>');\n",
       "\n",
       "    canvas_div.attr('style', 'position: relative; clear: both; outline: 0');\n",
       "\n",
       "    function canvas_keyboard_event(event) {\n",
       "        return fig.key_event(event, event['data']);\n",
       "    }\n",
       "\n",
       "    canvas_div.keydown('key_press', canvas_keyboard_event);\n",
       "    canvas_div.keyup('key_release', canvas_keyboard_event);\n",
       "    this.canvas_div = canvas_div\n",
       "    this._canvas_extra_style(canvas_div)\n",
       "    this.root.append(canvas_div);\n",
       "\n",
       "    var canvas = $('<canvas/>');\n",
       "    canvas.addClass('mpl-canvas');\n",
       "    canvas.attr('style', \"left: 0; top: 0; z-index: 0; outline: 0\")\n",
       "\n",
       "    this.canvas = canvas[0];\n",
       "    this.context = canvas[0].getContext(\"2d\");\n",
       "\n",
       "    var backingStore = this.context.backingStorePixelRatio ||\n",
       "\tthis.context.webkitBackingStorePixelRatio ||\n",
       "\tthis.context.mozBackingStorePixelRatio ||\n",
       "\tthis.context.msBackingStorePixelRatio ||\n",
       "\tthis.context.oBackingStorePixelRatio ||\n",
       "\tthis.context.backingStorePixelRatio || 1;\n",
       "\n",
       "    mpl.ratio = (window.devicePixelRatio || 1) / backingStore;\n",
       "\n",
       "    var rubberband = $('<canvas/>');\n",
       "    rubberband.attr('style', \"position: absolute; left: 0; top: 0; z-index: 1;\")\n",
       "\n",
       "    var pass_mouse_events = true;\n",
       "\n",
       "    canvas_div.resizable({\n",
       "        start: function(event, ui) {\n",
       "            pass_mouse_events = false;\n",
       "        },\n",
       "        resize: function(event, ui) {\n",
       "            fig.request_resize(ui.size.width, ui.size.height);\n",
       "        },\n",
       "        stop: function(event, ui) {\n",
       "            pass_mouse_events = true;\n",
       "            fig.request_resize(ui.size.width, ui.size.height);\n",
       "        },\n",
       "    });\n",
       "\n",
       "    function mouse_event_fn(event) {\n",
       "        if (pass_mouse_events)\n",
       "            return fig.mouse_event(event, event['data']);\n",
       "    }\n",
       "\n",
       "    rubberband.mousedown('button_press', mouse_event_fn);\n",
       "    rubberband.mouseup('button_release', mouse_event_fn);\n",
       "    // Throttle sequential mouse events to 1 every 20ms.\n",
       "    rubberband.mousemove('motion_notify', mouse_event_fn);\n",
       "\n",
       "    rubberband.mouseenter('figure_enter', mouse_event_fn);\n",
       "    rubberband.mouseleave('figure_leave', mouse_event_fn);\n",
       "\n",
       "    canvas_div.on(\"wheel\", function (event) {\n",
       "        event = event.originalEvent;\n",
       "        event['data'] = 'scroll'\n",
       "        if (event.deltaY < 0) {\n",
       "            event.step = 1;\n",
       "        } else {\n",
       "            event.step = -1;\n",
       "        }\n",
       "        mouse_event_fn(event);\n",
       "    });\n",
       "\n",
       "    canvas_div.append(canvas);\n",
       "    canvas_div.append(rubberband);\n",
       "\n",
       "    this.rubberband = rubberband;\n",
       "    this.rubberband_canvas = rubberband[0];\n",
       "    this.rubberband_context = rubberband[0].getContext(\"2d\");\n",
       "    this.rubberband_context.strokeStyle = \"#000000\";\n",
       "\n",
       "    this._resize_canvas = function(width, height) {\n",
       "        // Keep the size of the canvas, canvas container, and rubber band\n",
       "        // canvas in synch.\n",
       "        canvas_div.css('width', width)\n",
       "        canvas_div.css('height', height)\n",
       "\n",
       "        canvas.attr('width', width * mpl.ratio);\n",
       "        canvas.attr('height', height * mpl.ratio);\n",
       "        canvas.attr('style', 'width: ' + width + 'px; height: ' + height + 'px;');\n",
       "\n",
       "        rubberband.attr('width', width);\n",
       "        rubberband.attr('height', height);\n",
       "    }\n",
       "\n",
       "    // Set the figure to an initial 600x600px, this will subsequently be updated\n",
       "    // upon first draw.\n",
       "    this._resize_canvas(600, 600);\n",
       "\n",
       "    // Disable right mouse context menu.\n",
       "    $(this.rubberband_canvas).bind(\"contextmenu\",function(e){\n",
       "        return false;\n",
       "    });\n",
       "\n",
       "    function set_focus () {\n",
       "        canvas.focus();\n",
       "        canvas_div.focus();\n",
       "    }\n",
       "\n",
       "    window.setTimeout(set_focus, 100);\n",
       "}\n",
       "\n",
       "mpl.figure.prototype._init_toolbar = function() {\n",
       "    var fig = this;\n",
       "\n",
       "    var nav_element = $('<div/>')\n",
       "    nav_element.attr('style', 'width: 100%');\n",
       "    this.root.append(nav_element);\n",
       "\n",
       "    // Define a callback function for later on.\n",
       "    function toolbar_event(event) {\n",
       "        return fig.toolbar_button_onclick(event['data']);\n",
       "    }\n",
       "    function toolbar_mouse_event(event) {\n",
       "        return fig.toolbar_button_onmouseover(event['data']);\n",
       "    }\n",
       "\n",
       "    for(var toolbar_ind in mpl.toolbar_items) {\n",
       "        var name = mpl.toolbar_items[toolbar_ind][0];\n",
       "        var tooltip = mpl.toolbar_items[toolbar_ind][1];\n",
       "        var image = mpl.toolbar_items[toolbar_ind][2];\n",
       "        var method_name = mpl.toolbar_items[toolbar_ind][3];\n",
       "\n",
       "        if (!name) {\n",
       "            // put a spacer in here.\n",
       "            continue;\n",
       "        }\n",
       "        var button = $('<button/>');\n",
       "        button.addClass('ui-button ui-widget ui-state-default ui-corner-all ' +\n",
       "                        'ui-button-icon-only');\n",
       "        button.attr('role', 'button');\n",
       "        button.attr('aria-disabled', 'false');\n",
       "        button.click(method_name, toolbar_event);\n",
       "        button.mouseover(tooltip, toolbar_mouse_event);\n",
       "\n",
       "        var icon_img = $('<span/>');\n",
       "        icon_img.addClass('ui-button-icon-primary ui-icon');\n",
       "        icon_img.addClass(image);\n",
       "        icon_img.addClass('ui-corner-all');\n",
       "\n",
       "        var tooltip_span = $('<span/>');\n",
       "        tooltip_span.addClass('ui-button-text');\n",
       "        tooltip_span.html(tooltip);\n",
       "\n",
       "        button.append(icon_img);\n",
       "        button.append(tooltip_span);\n",
       "\n",
       "        nav_element.append(button);\n",
       "    }\n",
       "\n",
       "    var fmt_picker_span = $('<span/>');\n",
       "\n",
       "    var fmt_picker = $('<select/>');\n",
       "    fmt_picker.addClass('mpl-toolbar-option ui-widget ui-widget-content');\n",
       "    fmt_picker_span.append(fmt_picker);\n",
       "    nav_element.append(fmt_picker_span);\n",
       "    this.format_dropdown = fmt_picker[0];\n",
       "\n",
       "    for (var ind in mpl.extensions) {\n",
       "        var fmt = mpl.extensions[ind];\n",
       "        var option = $(\n",
       "            '<option/>', {selected: fmt === mpl.default_extension}).html(fmt);\n",
       "        fmt_picker.append(option)\n",
       "    }\n",
       "\n",
       "    // Add hover states to the ui-buttons\n",
       "    $( \".ui-button\" ).hover(\n",
       "        function() { $(this).addClass(\"ui-state-hover\");},\n",
       "        function() { $(this).removeClass(\"ui-state-hover\");}\n",
       "    );\n",
       "\n",
       "    var status_bar = $('<span class=\"mpl-message\"/>');\n",
       "    nav_element.append(status_bar);\n",
       "    this.message = status_bar[0];\n",
       "}\n",
       "\n",
       "mpl.figure.prototype.request_resize = function(x_pixels, y_pixels) {\n",
       "    // Request matplotlib to resize the figure. Matplotlib will then trigger a resize in the client,\n",
       "    // which will in turn request a refresh of the image.\n",
       "    this.send_message('resize', {'width': x_pixels, 'height': y_pixels});\n",
       "}\n",
       "\n",
       "mpl.figure.prototype.send_message = function(type, properties) {\n",
       "    properties['type'] = type;\n",
       "    properties['figure_id'] = this.id;\n",
       "    this.ws.send(JSON.stringify(properties));\n",
       "}\n",
       "\n",
       "mpl.figure.prototype.send_draw_message = function() {\n",
       "    if (!this.waiting) {\n",
       "        this.waiting = true;\n",
       "        this.ws.send(JSON.stringify({type: \"draw\", figure_id: this.id}));\n",
       "    }\n",
       "}\n",
       "\n",
       "\n",
       "mpl.figure.prototype.handle_save = function(fig, msg) {\n",
       "    var format_dropdown = fig.format_dropdown;\n",
       "    var format = format_dropdown.options[format_dropdown.selectedIndex].value;\n",
       "    fig.ondownload(fig, format);\n",
       "}\n",
       "\n",
       "\n",
       "mpl.figure.prototype.handle_resize = function(fig, msg) {\n",
       "    var size = msg['size'];\n",
       "    if (size[0] != fig.canvas.width || size[1] != fig.canvas.height) {\n",
       "        fig._resize_canvas(size[0], size[1]);\n",
       "        fig.send_message(\"refresh\", {});\n",
       "    };\n",
       "}\n",
       "\n",
       "mpl.figure.prototype.handle_rubberband = function(fig, msg) {\n",
       "    var x0 = msg['x0'] / mpl.ratio;\n",
       "    var y0 = (fig.canvas.height - msg['y0']) / mpl.ratio;\n",
       "    var x1 = msg['x1'] / mpl.ratio;\n",
       "    var y1 = (fig.canvas.height - msg['y1']) / mpl.ratio;\n",
       "    x0 = Math.floor(x0) + 0.5;\n",
       "    y0 = Math.floor(y0) + 0.5;\n",
       "    x1 = Math.floor(x1) + 0.5;\n",
       "    y1 = Math.floor(y1) + 0.5;\n",
       "    var min_x = Math.min(x0, x1);\n",
       "    var min_y = Math.min(y0, y1);\n",
       "    var width = Math.abs(x1 - x0);\n",
       "    var height = Math.abs(y1 - y0);\n",
       "\n",
       "    fig.rubberband_context.clearRect(\n",
       "        0, 0, fig.canvas.width, fig.canvas.height);\n",
       "\n",
       "    fig.rubberband_context.strokeRect(min_x, min_y, width, height);\n",
       "}\n",
       "\n",
       "mpl.figure.prototype.handle_figure_label = function(fig, msg) {\n",
       "    // Updates the figure title.\n",
       "    fig.header.textContent = msg['label'];\n",
       "}\n",
       "\n",
       "mpl.figure.prototype.handle_cursor = function(fig, msg) {\n",
       "    var cursor = msg['cursor'];\n",
       "    switch(cursor)\n",
       "    {\n",
       "    case 0:\n",
       "        cursor = 'pointer';\n",
       "        break;\n",
       "    case 1:\n",
       "        cursor = 'default';\n",
       "        break;\n",
       "    case 2:\n",
       "        cursor = 'crosshair';\n",
       "        break;\n",
       "    case 3:\n",
       "        cursor = 'move';\n",
       "        break;\n",
       "    }\n",
       "    fig.rubberband_canvas.style.cursor = cursor;\n",
       "}\n",
       "\n",
       "mpl.figure.prototype.handle_message = function(fig, msg) {\n",
       "    fig.message.textContent = msg['message'];\n",
       "}\n",
       "\n",
       "mpl.figure.prototype.handle_draw = function(fig, msg) {\n",
       "    // Request the server to send over a new figure.\n",
       "    fig.send_draw_message();\n",
       "}\n",
       "\n",
       "mpl.figure.prototype.handle_image_mode = function(fig, msg) {\n",
       "    fig.image_mode = msg['mode'];\n",
       "}\n",
       "\n",
       "mpl.figure.prototype.updated_canvas_event = function() {\n",
       "    // Called whenever the canvas gets updated.\n",
       "    this.send_message(\"ack\", {});\n",
       "}\n",
       "\n",
       "// A function to construct a web socket function for onmessage handling.\n",
       "// Called in the figure constructor.\n",
       "mpl.figure.prototype._make_on_message_function = function(fig) {\n",
       "    return function socket_on_message(evt) {\n",
       "        if (evt.data instanceof Blob) {\n",
       "            /* FIXME: We get \"Resource interpreted as Image but\n",
       "             * transferred with MIME type text/plain:\" errors on\n",
       "             * Chrome.  But how to set the MIME type?  It doesn't seem\n",
       "             * to be part of the websocket stream */\n",
       "            evt.data.type = \"image/png\";\n",
       "\n",
       "            /* Free the memory for the previous frames */\n",
       "            if (fig.imageObj.src) {\n",
       "                (window.URL || window.webkitURL).revokeObjectURL(\n",
       "                    fig.imageObj.src);\n",
       "            }\n",
       "\n",
       "            fig.imageObj.src = (window.URL || window.webkitURL).createObjectURL(\n",
       "                evt.data);\n",
       "            fig.updated_canvas_event();\n",
       "            fig.waiting = false;\n",
       "            return;\n",
       "        }\n",
       "        else if (typeof evt.data === 'string' && evt.data.slice(0, 21) == \"data:image/png;base64\") {\n",
       "            fig.imageObj.src = evt.data;\n",
       "            fig.updated_canvas_event();\n",
       "            fig.waiting = false;\n",
       "            return;\n",
       "        }\n",
       "\n",
       "        var msg = JSON.parse(evt.data);\n",
       "        var msg_type = msg['type'];\n",
       "\n",
       "        // Call the  \"handle_{type}\" callback, which takes\n",
       "        // the figure and JSON message as its only arguments.\n",
       "        try {\n",
       "            var callback = fig[\"handle_\" + msg_type];\n",
       "        } catch (e) {\n",
       "            console.log(\"No handler for the '\" + msg_type + \"' message type: \", msg);\n",
       "            return;\n",
       "        }\n",
       "\n",
       "        if (callback) {\n",
       "            try {\n",
       "                // console.log(\"Handling '\" + msg_type + \"' message: \", msg);\n",
       "                callback(fig, msg);\n",
       "            } catch (e) {\n",
       "                console.log(\"Exception inside the 'handler_\" + msg_type + \"' callback:\", e, e.stack, msg);\n",
       "            }\n",
       "        }\n",
       "    };\n",
       "}\n",
       "\n",
       "// from http://stackoverflow.com/questions/1114465/getting-mouse-location-in-canvas\n",
       "mpl.findpos = function(e) {\n",
       "    //this section is from http://www.quirksmode.org/js/events_properties.html\n",
       "    var targ;\n",
       "    if (!e)\n",
       "        e = window.event;\n",
       "    if (e.target)\n",
       "        targ = e.target;\n",
       "    else if (e.srcElement)\n",
       "        targ = e.srcElement;\n",
       "    if (targ.nodeType == 3) // defeat Safari bug\n",
       "        targ = targ.parentNode;\n",
       "\n",
       "    // jQuery normalizes the pageX and pageY\n",
       "    // pageX,Y are the mouse positions relative to the document\n",
       "    // offset() returns the position of the element relative to the document\n",
       "    var x = e.pageX - $(targ).offset().left;\n",
       "    var y = e.pageY - $(targ).offset().top;\n",
       "\n",
       "    return {\"x\": x, \"y\": y};\n",
       "};\n",
       "\n",
       "/*\n",
       " * return a copy of an object with only non-object keys\n",
       " * we need this to avoid circular references\n",
       " * http://stackoverflow.com/a/24161582/3208463\n",
       " */\n",
       "function simpleKeys (original) {\n",
       "  return Object.keys(original).reduce(function (obj, key) {\n",
       "    if (typeof original[key] !== 'object')\n",
       "        obj[key] = original[key]\n",
       "    return obj;\n",
       "  }, {});\n",
       "}\n",
       "\n",
       "mpl.figure.prototype.mouse_event = function(event, name) {\n",
       "    var canvas_pos = mpl.findpos(event)\n",
       "\n",
       "    if (name === 'button_press')\n",
       "    {\n",
       "        this.canvas.focus();\n",
       "        this.canvas_div.focus();\n",
       "    }\n",
       "\n",
       "    var x = canvas_pos.x * mpl.ratio;\n",
       "    var y = canvas_pos.y * mpl.ratio;\n",
       "\n",
       "    this.send_message(name, {x: x, y: y, button: event.button,\n",
       "                             step: event.step,\n",
       "                             guiEvent: simpleKeys(event)});\n",
       "\n",
       "    /* This prevents the web browser from automatically changing to\n",
       "     * the text insertion cursor when the button is pressed.  We want\n",
       "     * to control all of the cursor setting manually through the\n",
       "     * 'cursor' event from matplotlib */\n",
       "    event.preventDefault();\n",
       "    return false;\n",
       "}\n",
       "\n",
       "mpl.figure.prototype._key_event_extra = function(event, name) {\n",
       "    // Handle any extra behaviour associated with a key event\n",
       "}\n",
       "\n",
       "mpl.figure.prototype.key_event = function(event, name) {\n",
       "\n",
       "    // Prevent repeat events\n",
       "    if (name == 'key_press')\n",
       "    {\n",
       "        if (event.which === this._key)\n",
       "            return;\n",
       "        else\n",
       "            this._key = event.which;\n",
       "    }\n",
       "    if (name == 'key_release')\n",
       "        this._key = null;\n",
       "\n",
       "    var value = '';\n",
       "    if (event.ctrlKey && event.which != 17)\n",
       "        value += \"ctrl+\";\n",
       "    if (event.altKey && event.which != 18)\n",
       "        value += \"alt+\";\n",
       "    if (event.shiftKey && event.which != 16)\n",
       "        value += \"shift+\";\n",
       "\n",
       "    value += 'k';\n",
       "    value += event.which.toString();\n",
       "\n",
       "    this._key_event_extra(event, name);\n",
       "\n",
       "    this.send_message(name, {key: value,\n",
       "                             guiEvent: simpleKeys(event)});\n",
       "    return false;\n",
       "}\n",
       "\n",
       "mpl.figure.prototype.toolbar_button_onclick = function(name) {\n",
       "    if (name == 'download') {\n",
       "        this.handle_save(this, null);\n",
       "    } else {\n",
       "        this.send_message(\"toolbar_button\", {name: name});\n",
       "    }\n",
       "};\n",
       "\n",
       "mpl.figure.prototype.toolbar_button_onmouseover = function(tooltip) {\n",
       "    this.message.textContent = tooltip;\n",
       "};\n",
       "mpl.toolbar_items = [[\"Home\", \"Reset original view\", \"fa fa-home icon-home\", \"home\"], [\"Back\", \"Back to  previous view\", \"fa fa-arrow-left icon-arrow-left\", \"back\"], [\"Forward\", \"Forward to next view\", \"fa fa-arrow-right icon-arrow-right\", \"forward\"], [\"\", \"\", \"\", \"\"], [\"Pan\", \"Pan axes with left mouse, zoom with right\", \"fa fa-arrows icon-move\", \"pan\"], [\"Zoom\", \"Zoom to rectangle\", \"fa fa-square-o icon-check-empty\", \"zoom\"], [\"\", \"\", \"\", \"\"], [\"Download\", \"Download plot\", \"fa fa-floppy-o icon-save\", \"download\"]];\n",
       "\n",
       "mpl.extensions = [\"eps\", \"jpeg\", \"pdf\", \"png\", \"ps\", \"raw\", \"svg\", \"tif\"];\n",
       "\n",
       "mpl.default_extension = \"png\";var comm_websocket_adapter = function(comm) {\n",
       "    // Create a \"websocket\"-like object which calls the given IPython comm\n",
       "    // object with the appropriate methods. Currently this is a non binary\n",
       "    // socket, so there is still some room for performance tuning.\n",
       "    var ws = {};\n",
       "\n",
       "    ws.close = function() {\n",
       "        comm.close()\n",
       "    };\n",
       "    ws.send = function(m) {\n",
       "        //console.log('sending', m);\n",
       "        comm.send(m);\n",
       "    };\n",
       "    // Register the callback with on_msg.\n",
       "    comm.on_msg(function(msg) {\n",
       "        //console.log('receiving', msg['content']['data'], msg);\n",
       "        // Pass the mpl event to the overridden (by mpl) onmessage function.\n",
       "        ws.onmessage(msg['content']['data'])\n",
       "    });\n",
       "    return ws;\n",
       "}\n",
       "\n",
       "mpl.mpl_figure_comm = function(comm, msg) {\n",
       "    // This is the function which gets called when the mpl process\n",
       "    // starts-up an IPython Comm through the \"matplotlib\" channel.\n",
       "\n",
       "    var id = msg.content.data.id;\n",
       "    // Get hold of the div created by the display call when the Comm\n",
       "    // socket was opened in Python.\n",
       "    var element = $(\"#\" + id);\n",
       "    var ws_proxy = comm_websocket_adapter(comm)\n",
       "\n",
       "    function ondownload(figure, format) {\n",
       "        window.open(figure.imageObj.src);\n",
       "    }\n",
       "\n",
       "    var fig = new mpl.figure(id, ws_proxy,\n",
       "                           ondownload,\n",
       "                           element.get(0));\n",
       "\n",
       "    // Call onopen now - mpl needs it, as it is assuming we've passed it a real\n",
       "    // web socket which is closed, not our websocket->open comm proxy.\n",
       "    ws_proxy.onopen();\n",
       "\n",
       "    fig.parent_element = element.get(0);\n",
       "    fig.cell_info = mpl.find_output_cell(\"<div id='\" + id + \"'></div>\");\n",
       "    if (!fig.cell_info) {\n",
       "        console.error(\"Failed to find cell for figure\", id, fig);\n",
       "        return;\n",
       "    }\n",
       "\n",
       "    var output_index = fig.cell_info[2]\n",
       "    var cell = fig.cell_info[0];\n",
       "\n",
       "};\n",
       "\n",
       "mpl.figure.prototype.handle_close = function(fig, msg) {\n",
       "    var width = fig.canvas.width/mpl.ratio\n",
       "    fig.root.unbind('remove')\n",
       "\n",
       "    // Update the output cell to use the data from the current canvas.\n",
       "    fig.push_to_output();\n",
       "    var dataURL = fig.canvas.toDataURL();\n",
       "    // Re-enable the keyboard manager in IPython - without this line, in FF,\n",
       "    // the notebook keyboard shortcuts fail.\n",
       "    IPython.keyboard_manager.enable()\n",
       "    $(fig.parent_element).html('<img src=\"' + dataURL + '\" width=\"' + width + '\">');\n",
       "    fig.close_ws(fig, msg);\n",
       "}\n",
       "\n",
       "mpl.figure.prototype.close_ws = function(fig, msg){\n",
       "    fig.send_message('closing', msg);\n",
       "    // fig.ws.close()\n",
       "}\n",
       "\n",
       "mpl.figure.prototype.push_to_output = function(remove_interactive) {\n",
       "    // Turn the data on the canvas into data in the output cell.\n",
       "    var width = this.canvas.width/mpl.ratio\n",
       "    var dataURL = this.canvas.toDataURL();\n",
       "    this.cell_info[1]['text/html'] = '<img src=\"' + dataURL + '\" width=\"' + width + '\">';\n",
       "}\n",
       "\n",
       "mpl.figure.prototype.updated_canvas_event = function() {\n",
       "    // Tell IPython that the notebook contents must change.\n",
       "    IPython.notebook.set_dirty(true);\n",
       "    this.send_message(\"ack\", {});\n",
       "    var fig = this;\n",
       "    // Wait a second, then push the new image to the DOM so\n",
       "    // that it is saved nicely (might be nice to debounce this).\n",
       "    setTimeout(function () { fig.push_to_output() }, 1000);\n",
       "}\n",
       "\n",
       "mpl.figure.prototype._init_toolbar = function() {\n",
       "    var fig = this;\n",
       "\n",
       "    var nav_element = $('<div/>')\n",
       "    nav_element.attr('style', 'width: 100%');\n",
       "    this.root.append(nav_element);\n",
       "\n",
       "    // Define a callback function for later on.\n",
       "    function toolbar_event(event) {\n",
       "        return fig.toolbar_button_onclick(event['data']);\n",
       "    }\n",
       "    function toolbar_mouse_event(event) {\n",
       "        return fig.toolbar_button_onmouseover(event['data']);\n",
       "    }\n",
       "\n",
       "    for(var toolbar_ind in mpl.toolbar_items){\n",
       "        var name = mpl.toolbar_items[toolbar_ind][0];\n",
       "        var tooltip = mpl.toolbar_items[toolbar_ind][1];\n",
       "        var image = mpl.toolbar_items[toolbar_ind][2];\n",
       "        var method_name = mpl.toolbar_items[toolbar_ind][3];\n",
       "\n",
       "        if (!name) { continue; };\n",
       "\n",
       "        var button = $('<button class=\"btn btn-default\" href=\"#\" title=\"' + name + '\"><i class=\"fa ' + image + ' fa-lg\"></i></button>');\n",
       "        button.click(method_name, toolbar_event);\n",
       "        button.mouseover(tooltip, toolbar_mouse_event);\n",
       "        nav_element.append(button);\n",
       "    }\n",
       "\n",
       "    // Add the status bar.\n",
       "    var status_bar = $('<span class=\"mpl-message\" style=\"text-align:right; float: right;\"/>');\n",
       "    nav_element.append(status_bar);\n",
       "    this.message = status_bar[0];\n",
       "\n",
       "    // Add the close button to the window.\n",
       "    var buttongrp = $('<div class=\"btn-group inline pull-right\"></div>');\n",
       "    var button = $('<button class=\"btn btn-mini btn-primary\" href=\"#\" title=\"Stop Interaction\"><i class=\"fa fa-power-off icon-remove icon-large\"></i></button>');\n",
       "    button.click(function (evt) { fig.handle_close(fig, {}); } );\n",
       "    button.mouseover('Stop Interaction', toolbar_mouse_event);\n",
       "    buttongrp.append(button);\n",
       "    var titlebar = this.root.find($('.ui-dialog-titlebar'));\n",
       "    titlebar.prepend(buttongrp);\n",
       "}\n",
       "\n",
       "mpl.figure.prototype._root_extra_style = function(el){\n",
       "    var fig = this\n",
       "    el.on(\"remove\", function(){\n",
       "\tfig.close_ws(fig, {});\n",
       "    });\n",
       "}\n",
       "\n",
       "mpl.figure.prototype._canvas_extra_style = function(el){\n",
       "    // this is important to make the div 'focusable\n",
       "    el.attr('tabindex', 0)\n",
       "    // reach out to IPython and tell the keyboard manager to turn it's self\n",
       "    // off when our div gets focus\n",
       "\n",
       "    // location in version 3\n",
       "    if (IPython.notebook.keyboard_manager) {\n",
       "        IPython.notebook.keyboard_manager.register_events(el);\n",
       "    }\n",
       "    else {\n",
       "        // location in version 2\n",
       "        IPython.keyboard_manager.register_events(el);\n",
       "    }\n",
       "\n",
       "}\n",
       "\n",
       "mpl.figure.prototype._key_event_extra = function(event, name) {\n",
       "    var manager = IPython.notebook.keyboard_manager;\n",
       "    if (!manager)\n",
       "        manager = IPython.keyboard_manager;\n",
       "\n",
       "    // Check for shift+enter\n",
       "    if (event.shiftKey && event.which == 13) {\n",
       "        this.canvas_div.blur();\n",
       "        event.shiftKey = false;\n",
       "        // Send a \"J\" for go to next cell\n",
       "        event.which = 74;\n",
       "        event.keyCode = 74;\n",
       "        manager.command_mode();\n",
       "        manager.handle_keydown(event);\n",
       "    }\n",
       "}\n",
       "\n",
       "mpl.figure.prototype.handle_save = function(fig, msg) {\n",
       "    fig.ondownload(fig, null);\n",
       "}\n",
       "\n",
       "\n",
       "mpl.find_output_cell = function(html_output) {\n",
       "    // Return the cell and output element which can be found *uniquely* in the notebook.\n",
       "    // Note - this is a bit hacky, but it is done because the \"notebook_saving.Notebook\"\n",
       "    // IPython event is triggered only after the cells have been serialised, which for\n",
       "    // our purposes (turning an active figure into a static one), is too late.\n",
       "    var cells = IPython.notebook.get_cells();\n",
       "    var ncells = cells.length;\n",
       "    for (var i=0; i<ncells; i++) {\n",
       "        var cell = cells[i];\n",
       "        if (cell.cell_type === 'code'){\n",
       "            for (var j=0; j<cell.output_area.outputs.length; j++) {\n",
       "                var data = cell.output_area.outputs[j];\n",
       "                if (data.data) {\n",
       "                    // IPython >= 3 moved mimebundle to data attribute of output\n",
       "                    data = data.data;\n",
       "                }\n",
       "                if (data['text/html'] == html_output) {\n",
       "                    return [cell, data, j];\n",
       "                }\n",
       "            }\n",
       "        }\n",
       "    }\n",
       "}\n",
       "\n",
       "// Register the function which deals with the matplotlib target/channel.\n",
       "// The kernel may be null if the page has been refreshed.\n",
       "if (IPython.notebook.kernel != null) {\n",
       "    IPython.notebook.kernel.comm_manager.register_target('matplotlib', mpl.mpl_figure_comm);\n",
       "}\n"
      ],
      "text/plain": [
       "<IPython.core.display.Javascript object>"
      ]
     },
     "metadata": {},
     "output_type": "display_data"
    },
    {
     "data": {
      "text/html": [
       "<img src=\"data:image/png;base64,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\" width=\"640\">"
      ],
      "text/plain": [
       "<IPython.core.display.HTML object>"
      ]
     },
     "metadata": {},
     "output_type": "display_data"
    },
    {
     "data": {
      "text/plain": [
       "<function matplotlib.pyplot.show(*args, **kw)>"
      ]
     },
     "execution_count": 29,
     "metadata": {},
     "output_type": "execute_result"
    }
   ],
   "source": [
    "plt.plot(5,5, 'o')\n",
    "plt.show"
   ]
  },
  {
   "cell_type": "code",
   "execution_count": 44,
   "metadata": {},
   "outputs": [
    {
     "data": {
      "text/plain": [
       "Text(0.5,1,'Plotting Example')"
      ]
     },
     "execution_count": 44,
     "metadata": {},
     "output_type": "execute_result"
    }
   ],
   "source": [
    "plt.ylabel(\"Y\")\n",
    "plt.xlabel(\"X\")\n",
    "plt.title(\"Plotting Example\")"
   ]
  },
  {
   "cell_type": "code",
   "execution_count": null,
   "metadata": {},
   "outputs": [],
   "source": []
  },
  {
   "cell_type": "code",
   "execution_count": null,
   "metadata": {},
   "outputs": [],
   "source": []
  },
  {
   "cell_type": "code",
   "execution_count": 19,
   "metadata": {},
   "outputs": [
    {
     "data": {
      "text/html": [
       "<div>\n",
       "<style scoped>\n",
       "    .dataframe tbody tr th:only-of-type {\n",
       "        vertical-align: middle;\n",
       "    }\n",
       "\n",
       "    .dataframe tbody tr th {\n",
       "        vertical-align: top;\n",
       "    }\n",
       "\n",
       "    .dataframe thead th {\n",
       "        text-align: right;\n",
       "    }\n",
       "</style>\n",
       "<table border=\"1\" class=\"dataframe\">\n",
       "  <thead>\n",
       "    <tr style=\"text-align: right;\">\n",
       "      <th></th>\n",
       "      <th>Price</th>\n",
       "      <th>Product</th>\n",
       "    </tr>\n",
       "    <tr>\n",
       "      <th>Product ID</th>\n",
       "      <th></th>\n",
       "      <th></th>\n",
       "    </tr>\n",
       "  </thead>\n",
       "  <tbody>\n",
       "    <tr>\n",
       "      <th>4109</th>\n",
       "      <td>5.0</td>\n",
       "      <td>sushi roll</td>\n",
       "    </tr>\n",
       "    <tr>\n",
       "      <th>1412</th>\n",
       "      <td>0.5</td>\n",
       "      <td>Egg</td>\n",
       "    </tr>\n",
       "    <tr>\n",
       "      <th>8931</th>\n",
       "      <td>1.5</td>\n",
       "      <td>Bagel</td>\n",
       "    </tr>\n",
       "  </tbody>\n",
       "</table>\n",
       "</div>"
      ],
      "text/plain": [
       "            Price     Product\n",
       "Product ID                   \n",
       "4109          5.0  sushi roll\n",
       "1412          0.5         Egg\n",
       "8931          1.5       Bagel"
      ]
     },
     "execution_count": 19,
     "metadata": {},
     "output_type": "execute_result"
    }
   ],
   "source": [
    "product_id = [4109,1412,8931]\n",
    "price = [5, 0.5, 1.5]\n",
    "product = ['sushi roll', 'Egg', 'Bagel']\n",
    "d = {'Product ID': product_id, 'Price':price, 'Product':product}\n",
    "products = pd.DataFrame(d,index=product_id).set_index('Product ID')\n",
    "products"
   ]
  },
  {
   "cell_type": "code",
   "execution_count": 20,
   "metadata": {},
   "outputs": [
    {
     "data": {
      "text/html": [
       "<div>\n",
       "<style scoped>\n",
       "    .dataframe tbody tr th:only-of-type {\n",
       "        vertical-align: middle;\n",
       "    }\n",
       "\n",
       "    .dataframe tbody tr th {\n",
       "        vertical-align: top;\n",
       "    }\n",
       "\n",
       "    .dataframe thead th {\n",
       "        text-align: right;\n",
       "    }\n",
       "</style>\n",
       "<table border=\"1\" class=\"dataframe\">\n",
       "  <thead>\n",
       "    <tr style=\"text-align: right;\">\n",
       "      <th></th>\n",
       "      <th>Customer</th>\n",
       "      <th>Product ID</th>\n",
       "      <th>Quantity</th>\n",
       "    </tr>\n",
       "  </thead>\n",
       "  <tbody>\n",
       "    <tr>\n",
       "      <th>0</th>\n",
       "      <td>Ali</td>\n",
       "      <td>4109</td>\n",
       "      <td>1</td>\n",
       "    </tr>\n",
       "    <tr>\n",
       "      <th>1</th>\n",
       "      <td>Eric</td>\n",
       "      <td>1412</td>\n",
       "      <td>12</td>\n",
       "    </tr>\n",
       "    <tr>\n",
       "      <th>2</th>\n",
       "      <td>Ande</td>\n",
       "      <td>8931</td>\n",
       "      <td>6</td>\n",
       "    </tr>\n",
       "    <tr>\n",
       "      <th>3</th>\n",
       "      <td>Sam</td>\n",
       "      <td>4109</td>\n",
       "      <td>2</td>\n",
       "    </tr>\n",
       "  </tbody>\n",
       "</table>\n",
       "</div>"
      ],
      "text/plain": [
       "  Customer  Product ID  Quantity\n",
       "0      Ali        4109         1\n",
       "1     Eric        1412        12\n",
       "2     Ande        8931         6\n",
       "3      Sam        4109         2"
      ]
     },
     "execution_count": 20,
     "metadata": {},
     "output_type": "execute_result"
    }
   ],
   "source": [
    "customers = ['Ali', 'Eric', 'Ande', 'Sam']\n",
    "product_id = [4109,1412,8931, 4109]\n",
    "quantity = [1,12,6,2]\n",
    "\n",
    "d = {'Customer':customers, 'Product ID': product_id, 'Quantity':quantity}\n",
    "invoices = pd.DataFrame(d)\n",
    "invoices"
   ]
  },
  {
   "cell_type": "code",
   "execution_count": 21,
   "metadata": {},
   "outputs": [
    {
     "data": {
      "text/html": [
       "<div>\n",
       "<style scoped>\n",
       "    .dataframe tbody tr th:only-of-type {\n",
       "        vertical-align: middle;\n",
       "    }\n",
       "\n",
       "    .dataframe tbody tr th {\n",
       "        vertical-align: top;\n",
       "    }\n",
       "\n",
       "    .dataframe thead th {\n",
       "        text-align: right;\n",
       "    }\n",
       "</style>\n",
       "<table border=\"1\" class=\"dataframe\">\n",
       "  <thead>\n",
       "    <tr style=\"text-align: right;\">\n",
       "      <th></th>\n",
       "      <th>Customer</th>\n",
       "      <th>Product ID</th>\n",
       "      <th>Quantity</th>\n",
       "      <th>Price</th>\n",
       "      <th>Product</th>\n",
       "    </tr>\n",
       "  </thead>\n",
       "  <tbody>\n",
       "    <tr>\n",
       "      <th>0</th>\n",
       "      <td>Ali</td>\n",
       "      <td>4109</td>\n",
       "      <td>1</td>\n",
       "      <td>5.0</td>\n",
       "      <td>sushi roll</td>\n",
       "    </tr>\n",
       "    <tr>\n",
       "      <th>1</th>\n",
       "      <td>Sam</td>\n",
       "      <td>4109</td>\n",
       "      <td>2</td>\n",
       "      <td>5.0</td>\n",
       "      <td>sushi roll</td>\n",
       "    </tr>\n",
       "    <tr>\n",
       "      <th>2</th>\n",
       "      <td>Eric</td>\n",
       "      <td>1412</td>\n",
       "      <td>12</td>\n",
       "      <td>0.5</td>\n",
       "      <td>Egg</td>\n",
       "    </tr>\n",
       "    <tr>\n",
       "      <th>3</th>\n",
       "      <td>Ande</td>\n",
       "      <td>8931</td>\n",
       "      <td>6</td>\n",
       "      <td>1.5</td>\n",
       "      <td>Bagel</td>\n",
       "    </tr>\n",
       "  </tbody>\n",
       "</table>\n",
       "</div>"
      ],
      "text/plain": [
       "  Customer  Product ID  Quantity  Price     Product\n",
       "0      Ali        4109         1    5.0  sushi roll\n",
       "1      Sam        4109         2    5.0  sushi roll\n",
       "2     Eric        1412        12    0.5         Egg\n",
       "3     Ande        8931         6    1.5       Bagel"
      ]
     },
     "execution_count": 21,
     "metadata": {},
     "output_type": "execute_result"
    }
   ],
   "source": [
    "invoices.merge(products, on = 'Product ID', how='inner')"
   ]
  },
  {
   "cell_type": "code",
   "execution_count": 22,
   "metadata": {},
   "outputs": [
    {
     "data": {
      "text/html": [
       "<div>\n",
       "<style scoped>\n",
       "    .dataframe tbody tr th:only-of-type {\n",
       "        vertical-align: middle;\n",
       "    }\n",
       "\n",
       "    .dataframe tbody tr th {\n",
       "        vertical-align: top;\n",
       "    }\n",
       "\n",
       "    .dataframe thead th {\n",
       "        text-align: right;\n",
       "    }\n",
       "</style>\n",
       "<table border=\"1\" class=\"dataframe\">\n",
       "  <thead>\n",
       "    <tr style=\"text-align: right;\">\n",
       "      <th></th>\n",
       "      <th>Customer</th>\n",
       "      <th>Product ID</th>\n",
       "      <th>Quantity</th>\n",
       "      <th>Price</th>\n",
       "      <th>Product</th>\n",
       "    </tr>\n",
       "  </thead>\n",
       "  <tbody>\n",
       "    <tr>\n",
       "      <th>0</th>\n",
       "      <td>Ali</td>\n",
       "      <td>4109</td>\n",
       "      <td>1</td>\n",
       "      <td>5.0</td>\n",
       "      <td>sushi roll</td>\n",
       "    </tr>\n",
       "    <tr>\n",
       "      <th>1</th>\n",
       "      <td>Sam</td>\n",
       "      <td>4109</td>\n",
       "      <td>2</td>\n",
       "      <td>5.0</td>\n",
       "      <td>sushi roll</td>\n",
       "    </tr>\n",
       "    <tr>\n",
       "      <th>2</th>\n",
       "      <td>Eric</td>\n",
       "      <td>1412</td>\n",
       "      <td>12</td>\n",
       "      <td>0.5</td>\n",
       "      <td>Egg</td>\n",
       "    </tr>\n",
       "    <tr>\n",
       "      <th>3</th>\n",
       "      <td>Ande</td>\n",
       "      <td>8931</td>\n",
       "      <td>6</td>\n",
       "      <td>1.5</td>\n",
       "      <td>Bagel</td>\n",
       "    </tr>\n",
       "  </tbody>\n",
       "</table>\n",
       "</div>"
      ],
      "text/plain": [
       "  Customer  Product ID  Quantity  Price     Product\n",
       "0      Ali        4109         1    5.0  sushi roll\n",
       "1      Sam        4109         2    5.0  sushi roll\n",
       "2     Eric        1412        12    0.5         Egg\n",
       "3     Ande        8931         6    1.5       Bagel"
      ]
     },
     "execution_count": 22,
     "metadata": {},
     "output_type": "execute_result"
    }
   ],
   "source": [
    "pd.merge(invoices, products, on='Product ID', how='inner')"
   ]
  },
  {
   "cell_type": "code",
   "execution_count": 23,
   "metadata": {},
   "outputs": [
    {
     "data": {
      "text/html": [
       "<div>\n",
       "<style scoped>\n",
       "    .dataframe tbody tr th:only-of-type {\n",
       "        vertical-align: middle;\n",
       "    }\n",
       "\n",
       "    .dataframe tbody tr th {\n",
       "        vertical-align: top;\n",
       "    }\n",
       "\n",
       "    .dataframe thead th {\n",
       "        text-align: right;\n",
       "    }\n",
       "</style>\n",
       "<table border=\"1\" class=\"dataframe\">\n",
       "  <thead>\n",
       "    <tr style=\"text-align: right;\">\n",
       "      <th></th>\n",
       "      <th>Price</th>\n",
       "      <th>Product</th>\n",
       "      <th>Customer</th>\n",
       "      <th>Product ID</th>\n",
       "      <th>Quantity</th>\n",
       "    </tr>\n",
       "  </thead>\n",
       "  <tbody>\n",
       "    <tr>\n",
       "      <th>0</th>\n",
       "      <td>5.0</td>\n",
       "      <td>sushi roll</td>\n",
       "      <td>Ali</td>\n",
       "      <td>4109</td>\n",
       "      <td>1</td>\n",
       "    </tr>\n",
       "    <tr>\n",
       "      <th>3</th>\n",
       "      <td>5.0</td>\n",
       "      <td>sushi roll</td>\n",
       "      <td>Sam</td>\n",
       "      <td>4109</td>\n",
       "      <td>2</td>\n",
       "    </tr>\n",
       "    <tr>\n",
       "      <th>1</th>\n",
       "      <td>0.5</td>\n",
       "      <td>Egg</td>\n",
       "      <td>Eric</td>\n",
       "      <td>1412</td>\n",
       "      <td>12</td>\n",
       "    </tr>\n",
       "    <tr>\n",
       "      <th>2</th>\n",
       "      <td>1.5</td>\n",
       "      <td>Bagel</td>\n",
       "      <td>Ande</td>\n",
       "      <td>8931</td>\n",
       "      <td>6</td>\n",
       "    </tr>\n",
       "  </tbody>\n",
       "</table>\n",
       "</div>"
      ],
      "text/plain": [
       "   Price     Product Customer  Product ID  Quantity\n",
       "0    5.0  sushi roll      Ali        4109         1\n",
       "3    5.0  sushi roll      Sam        4109         2\n",
       "1    0.5         Egg     Eric        1412        12\n",
       "2    1.5       Bagel     Ande        8931         6"
      ]
     },
     "execution_count": 23,
     "metadata": {},
     "output_type": "execute_result"
    }
   ],
   "source": [
    "pd.merge(products, invoices, left_index = True, right_on='Product ID')"
   ]
  },
  {
   "cell_type": "code",
   "execution_count": null,
   "metadata": {},
   "outputs": [],
   "source": []
  }
 ],
 "metadata": {
  "kernelspec": {
   "display_name": "Python 3",
   "language": "python",
   "name": "python3"
  },
  "language_info": {
   "codemirror_mode": {
    "name": "ipython",
    "version": 3
   },
   "file_extension": ".py",
   "mimetype": "text/x-python",
   "name": "python",
   "nbconvert_exporter": "python",
   "pygments_lexer": "ipython3",
   "version": "3.6.5"
  }
 },
 "nbformat": 4,
 "nbformat_minor": 2
}
